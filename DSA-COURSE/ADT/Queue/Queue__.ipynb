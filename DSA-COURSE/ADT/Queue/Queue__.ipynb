{
 "cells": [
  {
   "cell_type": "code",
   "execution_count": 6,
   "metadata": {},
   "outputs": [
    {
     "name": "stdout",
     "output_type": "stream",
     "text": [
      "[0, 0, 0, 0, 0]\n",
      "[0, 0, 555, 0, 0]\n"
     ]
    }
   ],
   "source": [
    "class Queue:\n",
    "    def __init__(self) -> None:\n",
    "        self.item = [0 for i in range(5)]\n",
    "        self.Enqueue = -1\n",
    "        self.Dequeue = -1\n",
    "        self.count = 0\n",
    "\n",
    "    def is_full(self):\n",
    "        return self.count == len(self.item)\n",
    "    \n",
    "    def is_empty(self):\n",
    "        return self.count == 0\n",
    "\n",
    "    def en_queue(self, e):\n",
    "        if not self.is_full():\n",
    "            self.Enqueue = (self.Enqueue + 1) % len(self.item)\n",
    "            self.item[self.Enqueue] = e\n",
    "            self.Enqueue += 1\n",
    "            self.count += 1\n",
    "        else:\n",
    "            raise IndexError(\"Queue is Full.......\")\n",
    "        \n",
    "    def de_queue(self):\n",
    "        if not self.is_empty():\n",
    "            self.Dequeue = (self.Dequeue + 1) % len(self.item)\n",
    "            data = self.item[self.Dequeue]\n",
    "            self.item[self.Dequeue] = 0\n",
    "            # self.Dequeue += 1\n",
    "            self.count -= 1\n",
    "            return data\n",
    "        else:\n",
    "            raise IndexError(\"Our Queue is underflow.....\")\n",
    "        \n",
    "\n",
    "queue = Queue()\n",
    "print(queue.item)\n",
    "queue.en_queue(444)\n",
    "queue.en_queue(555)\n",
    "queue.de_queue()\n",
    "queue.de_queue()\n",
    "print(queue.item)\n",
    "\n",
    "        "
   ]
  }
 ],
 "metadata": {
  "kernelspec": {
   "display_name": "Python 3",
   "language": "python",
   "name": "python3"
  },
  "language_info": {
   "codemirror_mode": {
    "name": "ipython",
    "version": 3
   },
   "file_extension": ".py",
   "mimetype": "text/x-python",
   "name": "python",
   "nbconvert_exporter": "python",
   "pygments_lexer": "ipython3",
   "version": "3.11.4"
  }
 },
 "nbformat": 4,
 "nbformat_minor": 2
}
