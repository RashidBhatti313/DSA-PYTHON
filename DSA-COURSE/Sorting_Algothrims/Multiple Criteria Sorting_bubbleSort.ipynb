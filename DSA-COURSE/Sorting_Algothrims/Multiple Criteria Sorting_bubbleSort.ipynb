{
 "cells": [
  {
   "cell_type": "code",
   "execution_count": 1,
   "metadata": {},
   "outputs": [
    {
     "name": "stdout",
     "output_type": "stream",
     "text": [
      "Name: Alice, Age: 22\n",
      "Name: Charlie, Age: 22\n",
      "Name: Alice, Age: 25\n",
      "Name: Bob, Age: 30\n"
     ]
    }
   ],
   "source": [
    "class Record:\n",
    "    def __init__(self, name, age):\n",
    "        self.name = name\n",
    "        self.age = age\n",
    "\n",
    "def bubble_sort_multiple_criteria(records):\n",
    "    n = len(records)\n",
    "\n",
    "    # Traverse through all elements in the array\n",
    "    for i in range(n):\n",
    "\n",
    "        # Last i elements are already sorted, so we don't need to check them\n",
    "        for j in range(0, n-i-1):\n",
    "\n",
    "            # Compare based on age\n",
    "            if records[j].age > records[j+1].age:\n",
    "                records[j], records[j+1] = records[j+1], records[j]\n",
    "\n",
    "            # If ages are equal, compare based on name\n",
    "            elif records[j].age == records[j+1].age and records[j].name > records[j+1].name:\n",
    "                records[j], records[j+1] = records[j+1], records[j]\n",
    "\n",
    "# Example usage:\n",
    "record_list = [\n",
    "    Record(\"Alice\", 25),\n",
    "    Record(\"Bob\", 30),\n",
    "    Record(\"Charlie\", 22),\n",
    "    Record(\"Alice\", 22)\n",
    "]\n",
    "\n",
    "bubble_sort_multiple_criteria(record_list)\n",
    "\n",
    "# Print the sorted records\n",
    "for record in record_list:\n",
    "    print(f\"Name: {record.name}, Age: {record.age}\")\n"
   ]
  }
 ],
 "metadata": {
  "kernelspec": {
   "display_name": "Python 3",
   "language": "python",
   "name": "python3"
  },
  "language_info": {
   "codemirror_mode": {
    "name": "ipython",
    "version": 3
   },
   "file_extension": ".py",
   "mimetype": "text/x-python",
   "name": "python",
   "nbconvert_exporter": "python",
   "pygments_lexer": "ipython3",
   "version": "3.11.4"
  }
 },
 "nbformat": 4,
 "nbformat_minor": 2
}
