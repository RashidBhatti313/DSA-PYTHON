{
 "cells": [
  {
   "cell_type": "code",
   "execution_count": 2,
   "metadata": {},
   "outputs": [
    {
     "name": "stdout",
     "output_type": "stream",
     "text": [
      "Sorted array with duplicates removed: [11, 12, 22, 25, 34, 64, 90]\n"
     ]
    }
   ],
   "source": [
    "integer_array = [64, 34, 25, 12, 22, 11, 90, 34, 25]\n",
    "\n",
    "def bubble_sort_and_remove_duplicates(arr):\n",
    "    n = len(integer_array) -1\n",
    "\n",
    "    for i in range(n):\n",
    "\n",
    "        for j in range(n - 1):\n",
    "\n",
    "            if arr[j] > arr[j + 1]:\n",
    "\n",
    "                arr[j], arr[j + 1] = arr[j + 1], arr[j]\n",
    "    \n",
    "\n",
    "    unique_elements = []\n",
    "    for element in arr:\n",
    "        if element not in unique_elements:\n",
    "            unique_elements.append(element)\n",
    "\n",
    "    return unique_elements\n",
    "\n",
    "sorted_and_unique = bubble_sort_and_remove_duplicates(integer_array)\n",
    "print(\"Sorted array with duplicates removed:\", sorted_and_unique)\n",
    "\n"
   ]
  }
 ],
 "metadata": {
  "kernelspec": {
   "display_name": "Python 3",
   "language": "python",
   "name": "python3"
  },
  "language_info": {
   "codemirror_mode": {
    "name": "ipython",
    "version": 3
   },
   "file_extension": ".py",
   "mimetype": "text/x-python",
   "name": "python",
   "nbconvert_exporter": "python",
   "pygments_lexer": "ipython3",
   "version": "3.11.4"
  }
 },
 "nbformat": 4,
 "nbformat_minor": 2
}
