{
 "cells": [
  {
   "cell_type": "code",
   "execution_count": 1,
   "metadata": {},
   "outputs": [
    {
     "name": "stdout",
     "output_type": "stream",
     "text": [
      "Sorted array based on string lengths: ['kiwi', 'apple', 'grape', 'banana', 'orange']\n"
     ]
    }
   ],
   "source": [
    "def bubble_sort_string_lengths(arr):\n",
    "    n = len(arr)\n",
    "\n",
    "    # Traverse through all elements in the array\n",
    "    for i in range(n):\n",
    "\n",
    "        # Last i elements are already sorted, so we don't need to check them\n",
    "        for j in range(0, n-i-1):\n",
    "\n",
    "            # Swap if the length of the current string is greater than the length of the next string\n",
    "            if len(arr[j]) > len(arr[j+1]):\n",
    "                arr[j], arr[j+1] = arr[j+1], arr[j]\n",
    "\n",
    "# Example usage:\n",
    "string_array = [\"apple\", \"banana\", \"orange\", \"grape\", \"kiwi\"]\n",
    "bubble_sort_string_lengths(string_array)\n",
    "\n",
    "print(\"Sorted array based on string lengths:\", string_array)\n"
   ]
  }
 ],
 "metadata": {
  "kernelspec": {
   "display_name": "Python 3",
   "language": "python",
   "name": "python3"
  },
  "language_info": {
   "codemirror_mode": {
    "name": "ipython",
    "version": 3
   },
   "file_extension": ".py",
   "mimetype": "text/x-python",
   "name": "python",
   "nbconvert_exporter": "python",
   "pygments_lexer": "ipython3",
   "version": "3.11.4"
  }
 },
 "nbformat": 4,
 "nbformat_minor": 2
}
