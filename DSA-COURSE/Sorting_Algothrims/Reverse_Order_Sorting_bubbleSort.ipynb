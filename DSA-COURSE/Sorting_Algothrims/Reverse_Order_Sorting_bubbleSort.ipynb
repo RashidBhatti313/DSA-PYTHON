{
 "cells": [
  {
   "cell_type": "code",
   "execution_count": 15,
   "metadata": {},
   "outputs": [
    {
     "name": "stdout",
     "output_type": "stream",
     "text": [
      "Sorted array in reverse order: [5.8, 4.1, 3.5, 2.7, 1.2]\n"
     ]
    }
   ],
   "source": [
    "def Bubble_sort_reverse(arr):\n",
    "    n = len(arr)  \n",
    "\n",
    "    for i in range(n):\n",
    "        for j in range(0, n-i-1):\n",
    "            if arr[j] < arr[j + 1]:\n",
    "                arr[j], arr[j + 1] = arr[j + 1], arr[j]\n",
    "    \n",
    "float_array = [3.5, 1.2, 5.8, 2.7, 4.1]\n",
    "Bubble_sort_reverse(float_array)\n",
    "print(\"Sorted array in reverse order:\", float_array)"
   ]
  }
 ],
 "metadata": {
  "kernelspec": {
   "display_name": "Python 3",
   "language": "python",
   "name": "python3"
  },
  "language_info": {
   "codemirror_mode": {
    "name": "ipython",
    "version": 3
   },
   "file_extension": ".py",
   "mimetype": "text/x-python",
   "name": "python",
   "nbconvert_exporter": "python",
   "pygments_lexer": "ipython3",
   "version": "3.11.4"
  }
 },
 "nbformat": 4,
 "nbformat_minor": 2
}
