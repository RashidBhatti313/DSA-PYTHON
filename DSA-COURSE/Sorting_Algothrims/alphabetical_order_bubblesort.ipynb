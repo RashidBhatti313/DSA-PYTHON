{
 "cells": [
  {
   "cell_type": "code",
   "execution_count": 1,
   "metadata": {},
   "outputs": [
    {
     "name": "stdout",
     "output_type": "stream",
     "text": [
      "Sorted array in alphabetical order: ['a', 'b', 'c', 'd', 'e']\n"
     ]
    }
   ],
   "source": [
    "def bubble_sort_alphabetical(arr):\n",
    "    n = len(arr) \n",
    "\n",
    "    for i in range(n):\n",
    "\n",
    "        for j in range(n - 1):\n",
    "\n",
    "            if arr[j] > arr[j + 1]:\n",
    "                arr[j], arr[j + 1] = arr[j + 1], arr[j]\n",
    "\n",
    "    return char_array\n",
    "\n",
    "char_array = ['c', 'a', 'e', 'b', 'd']\n",
    "bubble_sort_alphabetical(char_array)\n",
    "print(\"Sorted array in alphabetical order:\", char_array)"
   ]
  }
 ],
 "metadata": {
  "kernelspec": {
   "display_name": "Python 3",
   "language": "python",
   "name": "python3"
  },
  "language_info": {
   "codemirror_mode": {
    "name": "ipython",
    "version": 3
   },
   "file_extension": ".py",
   "mimetype": "text/x-python",
   "name": "python",
   "nbconvert_exporter": "python",
   "pygments_lexer": "ipython3",
   "version": "3.11.4"
  }
 },
 "nbformat": 4,
 "nbformat_minor": 2
}
