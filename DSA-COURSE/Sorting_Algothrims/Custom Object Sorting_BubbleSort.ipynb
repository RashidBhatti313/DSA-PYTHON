{
 "cells": [
  {
   "cell_type": "code",
   "execution_count": 1,
   "metadata": {},
   "outputs": [
    {
     "name": "stdout",
     "output_type": "stream",
     "text": [
      "Name: Alice, Age: 20\n",
      "Name: Charlie, Age: 22\n",
      "Name: John, Age: 25\n",
      "Name: Bob, Age: 30\n"
     ]
    }
   ],
   "source": [
    "from operator import attrgetter\n",
    "\n",
    "class CustomObject:\n",
    "    def __init__(self, name, age) -> None:\n",
    "        self.name = name\n",
    "        self.age = age\n",
    "\n",
    "def bubble_sorted_custom_objects(arr, key):\n",
    "    n = len(arr) \n",
    "\n",
    "    for i in range(n):\n",
    "        for j in range(n - 1):\n",
    "            if key(arr[j]) > key(arr[j + 1]):\n",
    "                arr[j], arr[j + 1] = arr[j + 1], arr[j]\n",
    "\n",
    "custom_objects_array = [\n",
    "    CustomObject(\"John\", 25),\n",
    "    CustomObject(\"Alice\", 20),\n",
    "    CustomObject(\"Bob\", 30),\n",
    "    CustomObject(\"Charlie\", 22)\n",
    "]\n",
    "\n",
    "bubble_sorted_custom_objects(custom_objects_array, key=attrgetter('age'))\n",
    "\n",
    "for obj in custom_objects_array:\n",
    "    print(f\"Name: {obj.name}, Age: {obj.age}\")        \n",
    "\n"
   ]
  }
 ],
 "metadata": {
  "kernelspec": {
   "display_name": "Python 3",
   "language": "python",
   "name": "python3"
  },
  "language_info": {
   "codemirror_mode": {
    "name": "ipython",
    "version": 3
   },
   "file_extension": ".py",
   "mimetype": "text/x-python",
   "name": "python",
   "nbconvert_exporter": "python",
   "pygments_lexer": "ipython3",
   "version": "3.11.4"
  }
 },
 "nbformat": 4,
 "nbformat_minor": 2
}
