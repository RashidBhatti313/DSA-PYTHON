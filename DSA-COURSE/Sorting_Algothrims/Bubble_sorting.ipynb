{
 "cells": [
  {
   "cell_type": "code",
   "execution_count": 1,
   "metadata": {},
   "outputs": [
    {
     "name": "stdout",
     "output_type": "stream",
     "text": [
      "[1, 2, 3, 4, 5, 8, 9, 12, 15, 16]\n"
     ]
    }
   ],
   "source": [
    "Data = [4,12,9,5,8,3,15,16,1,2]\n",
    "\n",
    "def Bubble_sorting(data):\n",
    "    n = len(data) -1\n",
    "\n",
    "    for i in range(n):\n",
    "        for j in range(n - i):\n",
    "            if data[j] > data[j + 1]:\n",
    "                data[j],data[j + 1] = data[j + 1],data[j]\n",
    "    return data\n",
    "\n",
    "X = Bubble_sorting(Data)\n",
    "print(X)\n"
   ]
  }
 ],
 "metadata": {
  "kernelspec": {
   "display_name": "Python 3",
   "language": "python",
   "name": "python3"
  },
  "language_info": {
   "codemirror_mode": {
    "name": "ipython",
    "version": 3
   },
   "file_extension": ".py",
   "mimetype": "text/x-python",
   "name": "python",
   "nbconvert_exporter": "python",
   "pygments_lexer": "ipython3",
   "version": "3.11.4"
  }
 },
 "nbformat": 4,
 "nbformat_minor": 2
}
