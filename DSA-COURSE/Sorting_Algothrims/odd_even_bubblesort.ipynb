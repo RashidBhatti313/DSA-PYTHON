{
 "cells": [
  {
   "cell_type": "code",
   "execution_count": 3,
   "metadata": {},
   "outputs": [
    {
     "name": "stdout",
     "output_type": "stream",
     "text": [
      "Sorted array with odd numbers: [64, 34, 12, 22, 90, 46, 25, 11, 33, 55]\n"
     ]
    }
   ],
   "source": [
    "def Bubble_sort_odd_even(arr, odd=True):\n",
    "    n = len(arr)\n",
    "\n",
    "    for i in range(n):\n",
    "\n",
    "        for j in range(n-1):\n",
    "            \n",
    "\n",
    "            current_is_odd = arr[j] % 2 != 0\n",
    "            next_is_odd  = arr[j+1] % 2 != 0\n",
    "\n",
    "            if (odd and current_is_odd and not next_is_odd) or (not odd and not current_is_odd and next_is_odd):\n",
    "                arr[j], arr[j+1] = arr[j+1], arr[j]\n",
    "    \n",
    "    return integer_array\n",
    "\n",
    "integer_array = [64, 34, 25, 12, 22, 11, 90, 33, 55, 46]\n",
    "Bubble_sort_odd_even(integer_array, odd=True)\n",
    "\n",
    "print(\"Sorted array with odd numbers:\", integer_array)"
   ]
  }
 ],
 "metadata": {
  "kernelspec": {
   "display_name": "Python 3",
   "language": "python",
   "name": "python3"
  },
  "language_info": {
   "codemirror_mode": {
    "name": "ipython",
    "version": 3
   },
   "file_extension": ".py",
   "mimetype": "text/x-python",
   "name": "python",
   "nbconvert_exporter": "python",
   "pygments_lexer": "ipython3",
   "version": "3.11.4"
  }
 },
 "nbformat": 4,
 "nbformat_minor": 2
}
