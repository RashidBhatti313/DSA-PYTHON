{
 "cells": [
  {
   "cell_type": "code",
   "execution_count": 31,
   "metadata": {},
   "outputs": [],
   "source": [
    "with open(\"data.txt\",\"r\") as f:\n",
    "    data = f.read()\n",
    "\n",
    "numbers_list = list(map(int, data.split(',')))\n",
    "numbers_list\n",
    "\n",
    "def bubble_sorting(arr):\n",
    "    n = len(arr)\n",
    "\n",
    "    for i in range(n):\n",
    "        for j in range(n - 1):\n",
    "            if arr[j] > arr[j+1]:\n",
    "                arr[j],arr[j+1] = arr[j+1],arr[j]\n",
    "\n",
    "    return arr\n",
    "\n",
    "bubble_sorting(numbers_list)\n",
    "\n",
    "\n",
    "with open(\"data.txt\", \"w\") as f:\n",
    "     f.write(\",\".join(map(str, bubble_sorting(numbers_list))))\n",
    "\n",
    "\n",
    "\n"
   ]
  },
  {
   "cell_type": "code",
   "execution_count": 43,
   "metadata": {},
   "outputs": [
    {
     "data": {
      "text/plain": [
       "[' Haris',\n",
       " ' Zakariya',\n",
       " 'Kashif',\n",
       " 'Sir',\n",
       " 'abdul',\n",
       " 'ali',\n",
       " 'rashid',\n",
       " 'samad',\n",
       " 'Waqas']"
      ]
     },
     "execution_count": 43,
     "metadata": {},
     "output_type": "execute_result"
    }
   ],
   "source": [
    "with open(\"alpha.txt\",\"r\") as f:\n",
    "    data = f.read()\n",
    "\n",
    "data\n",
    "names = list(map( str, data.split(',')))\n",
    "names\n",
    "\n",
    "\n",
    "def bubble_sorting(arr):\n",
    "    n = len(arr)-1\n",
    "\n",
    "    for i in range(n):\n",
    "        for j in range(n - 1):\n",
    "            if arr[j] > arr[j+1]:\n",
    "                arr[j],arr[j+1] = arr[j+1],arr[j]\n",
    "\n",
    "    return arr\n",
    "\n",
    "bubble_sorting(names)"
   ]
  },
  {
   "cell_type": "code",
   "execution_count": null,
   "metadata": {},
   "outputs": [],
   "source": []
  }
 ],
 "metadata": {
  "kernelspec": {
   "display_name": "Python 3",
   "language": "python",
   "name": "python3"
  },
  "language_info": {
   "name": "python",
   "version": "3.11.4"
  }
 },
 "nbformat": 4,
 "nbformat_minor": 2
}
