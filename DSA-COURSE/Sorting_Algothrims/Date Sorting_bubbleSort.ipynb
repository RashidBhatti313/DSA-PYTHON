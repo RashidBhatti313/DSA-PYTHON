{
 "cells": [
  {
   "cell_type": "code",
   "execution_count": 6,
   "metadata": {},
   "outputs": [
    {
     "name": "stdout",
     "output_type": "stream",
     "text": [
      "Sorted array in chronological order: ['2021-12-05', '2022-01-15', '2022-08-10', '2023-03-21']\n"
     ]
    }
   ],
   "source": [
    "from datetime import datetime\n",
    "\n",
    "def bubble_sort_dates(arr):\n",
    "    n = len(arr)\n",
    "\n",
    "    for i in range(n):\n",
    "\n",
    "        for j in range(0, n-i-1):\n",
    "\n",
    "            date_format = \"%Y-%m-%d\"\n",
    "\n",
    "            date1 =datetime.strptime(arr[j], date_format)\n",
    "            date2 = datetime.strptime(arr[j + 1], date_format)\n",
    "\n",
    "            if date1 > date2:\n",
    "                arr[j], arr[j + 1] = arr[j + 1], arr[j]\n",
    "\n",
    "date_array = [\"2022-01-15\", \"2023-03-21\", \"2021-12-05\", \"2022-08-10\"]\n",
    "bubble_sort_dates(date_array)\n",
    "\n",
    "print(\"Sorted array in chronological order:\", date_array)"
   ]
  }
 ],
 "metadata": {
  "kernelspec": {
   "display_name": "Python 3",
   "language": "python",
   "name": "python3"
  },
  "language_info": {
   "codemirror_mode": {
    "name": "ipython",
    "version": 3
   },
   "file_extension": ".py",
   "mimetype": "text/x-python",
   "name": "python",
   "nbconvert_exporter": "python",
   "pygments_lexer": "ipython3",
   "version": "3.11.4"
  }
 },
 "nbformat": 4,
 "nbformat_minor": 2
}
