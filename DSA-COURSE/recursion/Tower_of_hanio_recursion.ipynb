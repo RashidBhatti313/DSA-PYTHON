{
 "cells": [
  {
   "cell_type": "markdown",
   "metadata": {},
   "source": [
    "## *Tower of Hanoi:*"
   ]
  },
  {
   "cell_type": "code",
   "execution_count": 1,
   "metadata": {},
   "outputs": [
    {
     "name": "stdout",
     "output_type": "stream",
     "text": [
      "Move disk 1 from 23 to 5\n",
      "Move disk 1 from 23 to 45\n",
      "Move disk 1 from 5 to 45\n"
     ]
    }
   ],
   "source": [
    "def Tower_of_Hanio(n, source, target, auxillary):\n",
    "    stack = [(n, source, target, auxillary)]\n",
    "    while stack:\n",
    "        n, source, target, auxillary = stack.pop()\n",
    "        if n == 1:\n",
    "            print(f\"Move disk 1 from {source} to {target}\")\n",
    "        else:\n",
    "            stack.append((n - 1, auxillary, target, source))\n",
    "            stack.append((1, source, target, auxillary))\n",
    "            stack.append((n - 1, source, auxillary, target))\n",
    "\n",
    "Tower_of_Hanio(2, 23, 45, 5)"
   ]
  },
  {
   "cell_type": "markdown",
   "metadata": {},
   "source": [
    "## Recursion"
   ]
  },
  {
   "cell_type": "code",
   "execution_count": 2,
   "metadata": {},
   "outputs": [
    {
     "name": "stdout",
     "output_type": "stream",
     "text": [
      "Move disk 1 from 23 to 5\n",
      "Move disk 2 from 23 to 45\n",
      "Move disk 1 from 5 to 45\n"
     ]
    }
   ],
   "source": [
    "def Tower_of_Hanio(n, source, target, auxillary):\n",
    "    if n > 0:\n",
    "        Tower_of_Hanio(n - 1, source, auxillary, target)\n",
    "        print(f\"Move disk {n} from {source} to {target}\")\n",
    "        Tower_of_Hanio(n - 1, auxillary, target, source)\n",
    "\n",
    "Tower_of_Hanio(2, 23, 45, 5)"
   ]
  }
 ],
 "metadata": {
  "kernelspec": {
   "display_name": "Python 3",
   "language": "python",
   "name": "python3"
  },
  "language_info": {
   "codemirror_mode": {
    "name": "ipython",
    "version": 3
   },
   "file_extension": ".py",
   "mimetype": "text/x-python",
   "name": "python",
   "nbconvert_exporter": "python",
   "pygments_lexer": "ipython3",
   "version": "3.11.4"
  }
 },
 "nbformat": 4,
 "nbformat_minor": 2
}
