{
 "cells": [
  {
   "cell_type": "markdown",
   "metadata": {},
   "source": [
    "## Subset Generation:*"
   ]
  },
  {
   "cell_type": "code",
   "execution_count": 3,
   "metadata": {},
   "outputs": [
    {
     "data": {
      "text/plain": [
       "[[],\n",
       " [1],\n",
       " [2],\n",
       " [1, 2],\n",
       " [3],\n",
       " [1, 3],\n",
       " [2, 3],\n",
       " [1, 2, 3],\n",
       " [4],\n",
       " [1, 4],\n",
       " [2, 4],\n",
       " [1, 2, 4],\n",
       " [3, 4],\n",
       " [1, 3, 4],\n",
       " [2, 3, 4],\n",
       " [1, 2, 3, 4],\n",
       " [6],\n",
       " [1, 6],\n",
       " [2, 6],\n",
       " [1, 2, 6],\n",
       " [3, 6],\n",
       " [1, 3, 6],\n",
       " [2, 3, 6],\n",
       " [1, 2, 3, 6],\n",
       " [4, 6],\n",
       " [1, 4, 6],\n",
       " [2, 4, 6],\n",
       " [1, 2, 4, 6],\n",
       " [3, 4, 6],\n",
       " [1, 3, 4, 6],\n",
       " [2, 3, 4, 6],\n",
       " [1, 2, 3, 4, 6],\n",
       " [5],\n",
       " [1, 5],\n",
       " [2, 5],\n",
       " [1, 2, 5],\n",
       " [3, 5],\n",
       " [1, 3, 5],\n",
       " [2, 3, 5],\n",
       " [1, 2, 3, 5],\n",
       " [4, 5],\n",
       " [1, 4, 5],\n",
       " [2, 4, 5],\n",
       " [1, 2, 4, 5],\n",
       " [3, 4, 5],\n",
       " [1, 3, 4, 5],\n",
       " [2, 3, 4, 5],\n",
       " [1, 2, 3, 4, 5],\n",
       " [6, 5],\n",
       " [1, 6, 5],\n",
       " [2, 6, 5],\n",
       " [1, 2, 6, 5],\n",
       " [3, 6, 5],\n",
       " [1, 3, 6, 5],\n",
       " [2, 3, 6, 5],\n",
       " [1, 2, 3, 6, 5],\n",
       " [4, 6, 5],\n",
       " [1, 4, 6, 5],\n",
       " [2, 4, 6, 5],\n",
       " [1, 2, 4, 6, 5],\n",
       " [3, 4, 6, 5],\n",
       " [1, 3, 4, 6, 5],\n",
       " [2, 3, 4, 6, 5],\n",
       " [1, 2, 3, 4, 6, 5]]"
      ]
     },
     "execution_count": 3,
     "metadata": {},
     "output_type": "execute_result"
    }
   ],
   "source": [
    "def Subset_Generation(nums):\n",
    "    result = [[]]\n",
    "    for num in nums:\n",
    "        result += [subset + [num] for subset in result]\n",
    "    return result\n",
    "\n",
    "Subset_Generation([1, 2, 3, 4, 6, 5])  # Call the function with a list instead of an integer\n"
   ]
  },
  {
   "cell_type": "markdown",
   "metadata": {},
   "source": [
    "## Recursion"
   ]
  },
  {
   "cell_type": "code",
   "execution_count": 4,
   "metadata": {},
   "outputs": [
    {
     "data": {
      "text/plain": [
       "[[],\n",
       " [5],\n",
       " [6],\n",
       " [6, 5],\n",
       " [4],\n",
       " [4, 5],\n",
       " [4, 6],\n",
       " [4, 6, 5],\n",
       " [3],\n",
       " [3, 5],\n",
       " [3, 6],\n",
       " [3, 6, 5],\n",
       " [3, 4],\n",
       " [3, 4, 5],\n",
       " [3, 4, 6],\n",
       " [3, 4, 6, 5],\n",
       " [2],\n",
       " [2, 5],\n",
       " [2, 6],\n",
       " [2, 6, 5],\n",
       " [2, 4],\n",
       " [2, 4, 5],\n",
       " [2, 4, 6],\n",
       " [2, 4, 6, 5],\n",
       " [2, 3],\n",
       " [2, 3, 5],\n",
       " [2, 3, 6],\n",
       " [2, 3, 6, 5],\n",
       " [2, 3, 4],\n",
       " [2, 3, 4, 5],\n",
       " [2, 3, 4, 6],\n",
       " [2, 3, 4, 6, 5],\n",
       " [1],\n",
       " [1, 5],\n",
       " [1, 6],\n",
       " [1, 6, 5],\n",
       " [1, 4],\n",
       " [1, 4, 5],\n",
       " [1, 4, 6],\n",
       " [1, 4, 6, 5],\n",
       " [1, 3],\n",
       " [1, 3, 5],\n",
       " [1, 3, 6],\n",
       " [1, 3, 6, 5],\n",
       " [1, 3, 4],\n",
       " [1, 3, 4, 5],\n",
       " [1, 3, 4, 6],\n",
       " [1, 3, 4, 6, 5],\n",
       " [1, 2],\n",
       " [1, 2, 5],\n",
       " [1, 2, 6],\n",
       " [1, 2, 6, 5],\n",
       " [1, 2, 4],\n",
       " [1, 2, 4, 5],\n",
       " [1, 2, 4, 6],\n",
       " [1, 2, 4, 6, 5],\n",
       " [1, 2, 3],\n",
       " [1, 2, 3, 5],\n",
       " [1, 2, 3, 6],\n",
       " [1, 2, 3, 6, 5],\n",
       " [1, 2, 3, 4],\n",
       " [1, 2, 3, 4, 5],\n",
       " [1, 2, 3, 4, 6],\n",
       " [1, 2, 3, 4, 6, 5]]"
      ]
     },
     "execution_count": 4,
     "metadata": {},
     "output_type": "execute_result"
    }
   ],
   "source": [
    "def generate_subsets(nums):\n",
    "        if not nums:\n",
    "            return [[]]\n",
    "        else:\n",
    "            rest_subsets = generate_subsets(nums[1:])\n",
    "            return rest_subsets + [[nums[0]] + subset for subset in rest_subsets]\n",
    "\n",
    "generate_subsets([1, 2, 3, 4, 6, 5]) "
   ]
  }
 ],
 "metadata": {
  "kernelspec": {
   "display_name": "Python 3",
   "language": "python",
   "name": "python3"
  },
  "language_info": {
   "codemirror_mode": {
    "name": "ipython",
    "version": 3
   },
   "file_extension": ".py",
   "mimetype": "text/x-python",
   "name": "python",
   "nbconvert_exporter": "python",
   "pygments_lexer": "ipython3",
   "version": "3.11.4"
  }
 },
 "nbformat": 4,
 "nbformat_minor": 2
}
