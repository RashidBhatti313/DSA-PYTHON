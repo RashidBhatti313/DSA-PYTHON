{
 "cells": [
  {
   "cell_type": "markdown",
   "metadata": {},
   "source": [
    "## *Binary Search:*\n"
   ]
  },
  {
   "cell_type": "code",
   "execution_count": 1,
   "metadata": {},
   "outputs": [
    {
     "data": {
      "text/plain": [
       "5"
      ]
     },
     "execution_count": 1,
     "metadata": {},
     "output_type": "execute_result"
    }
   ],
   "source": [
    "def Binary_search(arr, target):\n",
    "    low = 0\n",
    "    high = len(arr) -1\n",
    "    while low <= high:\n",
    "        mid = (low + high) // 2\n",
    "        if arr[mid] == target:\n",
    "            return mid\n",
    "        elif arr[mid] < target:\n",
    "            low = mid + 1\n",
    "        else:\n",
    "            high = mid - 1\n",
    "    return -1 \n",
    "\n",
    "arr = [11,22,23,45,23,45,32,56,78,89,99,988]\n",
    "Binary_search(arr, 45) "
   ]
  },
  {
   "cell_type": "markdown",
   "metadata": {},
   "source": [
    "## Recursion"
   ]
  },
  {
   "cell_type": "code",
   "execution_count": 8,
   "metadata": {},
   "outputs": [
    {
     "name": "stdout",
     "output_type": "stream",
     "text": [
      "Element 45 found at index 5\n"
     ]
    }
   ],
   "source": [
    "def Binary_search(arr, target, low=0, high=None):\n",
    "    if high is None:\n",
    "        high = len(arr) - 1\n",
    "    \n",
    "    while low <= high:\n",
    "        mid = (low + high) // 2\n",
    "        if arr[mid] == target:\n",
    "            return mid\n",
    "        elif arr[mid] < target:\n",
    "            return Binary_search(arr, target, mid + 1, high)\n",
    "        else:\n",
    "            return Binary_search(arr, target, low, mid - 1)\n",
    "    \n",
    "    return -1\n",
    "    \n",
    "arr = [11, 22, 23, 45, 23, 45, 32, 56, 78, 89, 99, 988]\n",
    "target = 45\n",
    "result = Binary_search(arr, target)\n",
    "if result != -1:\n",
    "    print(f\"Element {target} found at index {result}\")\n",
    "else:\n",
    "    print(f\"Element {target} not found\")"
   ]
  }
 ],
 "metadata": {
  "kernelspec": {
   "display_name": "Python 3",
   "language": "python",
   "name": "python3"
  },
  "language_info": {
   "codemirror_mode": {
    "name": "ipython",
    "version": 3
   },
   "file_extension": ".py",
   "mimetype": "text/x-python",
   "name": "python",
   "nbconvert_exporter": "python",
   "pygments_lexer": "ipython3",
   "version": "3.11.4"
  }
 },
 "nbformat": 4,
 "nbformat_minor": 2
}
