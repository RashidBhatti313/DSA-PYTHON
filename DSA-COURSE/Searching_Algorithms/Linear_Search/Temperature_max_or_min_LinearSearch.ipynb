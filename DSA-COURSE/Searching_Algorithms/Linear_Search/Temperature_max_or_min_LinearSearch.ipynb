{
 "cells": [
  {
   "cell_type": "code",
   "execution_count": 1,
   "metadata": {},
   "outputs": [
    {
     "name": "stdout",
     "output_type": "stream",
     "text": [
      "Maximum temperature: 32C.\n",
      "Minimum temperature: 18C.\n"
     ]
    }
   ],
   "source": [
    "def find_max_min_temperatures(temperatures):\n",
    "    if not temperatures:\n",
    "        return None, None\n",
    "    \n",
    "    max_temperature = min_temperature = temperatures[0]\n",
    "\n",
    "    for temp in temperatures:\n",
    "        if temp > max_temperature:\n",
    "            max_temperature= temp\n",
    "        elif temp < min_temperature:\n",
    "            min_temperature = temp\n",
    "\n",
    "    return max_temperature, min_temperature\n",
    "\n",
    "temperature_readings = [24, 28, 22, 30, 25, 18, 32, 29]\n",
    "\n",
    "max_temp, min_temp = find_max_min_temperatures(temperature_readings)\n",
    "\n",
    "print(f\"Maximum temperature: {max_temp}C.\")\n",
    "print(f\"Minimum temperature: {min_temp}C.\")"
   ]
  }
 ],
 "metadata": {
  "kernelspec": {
   "display_name": "Python 3",
   "language": "python",
   "name": "python3"
  },
  "language_info": {
   "codemirror_mode": {
    "name": "ipython",
    "version": 3
   },
   "file_extension": ".py",
   "mimetype": "text/x-python",
   "name": "python",
   "nbconvert_exporter": "python",
   "pygments_lexer": "ipython3",
   "version": "3.11.4"
  }
 },
 "nbformat": 4,
 "nbformat_minor": 2
}
