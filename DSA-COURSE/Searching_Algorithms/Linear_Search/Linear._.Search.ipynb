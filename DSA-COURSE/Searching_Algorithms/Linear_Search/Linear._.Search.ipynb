{
 "cells": [
  {
   "cell_type": "code",
   "execution_count": 1,
   "metadata": {},
   "outputs": [
    {
     "name": "stdout",
     "output_type": "stream",
     "text": [
      "7 is par 6 majood hy is [2, 3, 9, 5, 13, 7, 11, 6] main\n",
      "this 7 index has 6 elemnt on [2, 3, 9, 5, 13, 7, 11, 6] data\n"
     ]
    }
   ],
   "source": [
    "d = [2,3,9,5,13,7,11,6]\n",
    "\n",
    "def find(d, e):\n",
    "    for i in range(len(d)):\n",
    "        if d[i] == e:\n",
    "            return i\n",
    "        \n",
    "    else:\n",
    "        return -1\n",
    "e = 6\n",
    "x = find(d,e)\n",
    "if x != -1:\n",
    "    print(f\"{x} is par {e} majood hy is {d} main\") \n",
    "    print(f\"this {x} index has {e} elemnt on {d} data\")\n",
    "else:\n",
    "    print(f\"{e} element is not found on this {d}\")"
   ]
  },
  {
   "cell_type": "code",
   "execution_count": 2,
   "metadata": {},
   "outputs": [
    {
     "name": "stdout",
     "output_type": "stream",
     "text": [
      "this ali found in the user_list\n"
     ]
    }
   ],
   "source": [
    "def linear_search(user_list, user ):\n",
    "    for i in range(len(user_list)):\n",
    "        if user_list[i] == user:\n",
    "            return i\n",
    "    return -1\n",
    "\n",
    "user_list = [\"ali\", 'usman', \"sufiyan\", \"kareem\"]\n",
    "a = input(\"enter user name\")\n",
    "x = linear_search(user_list,a)\n",
    "if x != -1:\n",
    "    print(f\"this {a} found in the user_list\")\n",
    "else:\n",
    "    print(f\"{a} is not found in the user list\")"
   ]
  },
  {
   "cell_type": "code",
   "execution_count": 5,
   "metadata": {},
   "outputs": [
    {
     "name": "stdout",
     "output_type": "stream",
     "text": [
      "This Usman is the found of user_list\n"
     ]
    }
   ],
   "source": [
    "user_list = [\"Ali\", \"Usman\", \"Rashid\", \"Kashif\", \"Waqas\"]\n",
    "\n",
    "def linear_search(user_list, user):\n",
    "    for i in range(len(user_list)):\n",
    "        if user_list[i] == user:\n",
    "            return i\n",
    "    return -1\n",
    "\n",
    "a = input(\"Enter the User_name: \")\n",
    "x = linear_search(user_list, a)\n",
    "if x != -1:\n",
    "    print(f\"This {a} is the found of user_list\")\n",
    "else:\n",
    "    print(f\"This {a} is not found User_list\")\n"
   ]
  },
  {
   "cell_type": "code",
   "execution_count": 52,
   "metadata": {},
   "outputs": [
    {
     "name": "stdout",
     "output_type": "stream",
     "text": [
      "116\n"
     ]
    }
   ],
   "source": [
    "\n",
    "\n"
   ]
  },
  {
   "cell_type": "code",
   "execution_count": 21,
   "metadata": {},
   "outputs": [
    {
     "name": "stdout",
     "output_type": "stream",
     "text": [
      "This English is available in Library\n"
     ]
    }
   ],
   "source": [
    "Library = [\"English\", \"Chemistry\", \"Physics\", \"Urdu\", \"Computer\", \"Islamiat\", \"Math\", \"PST\"]\n",
    "\n",
    "def Linear_Search(Library, Book):\n",
    "    for i in range(len(Library)):\n",
    "        if Library[i] == Book:\n",
    "            return i\n",
    "    return -1\n",
    "\n",
    "B = input(\"Enter the Book: \")\n",
    "X = Linear_Search(Library, B)\n",
    "if x != -1:\n",
    "    print(f\"This {B} is available in Library\")\n",
    "else:\n",
    "    print(f\"This {B} is Not available in Library\")"
   ]
  }
 ],
 "metadata": {
  "kernelspec": {
   "display_name": "Python 3",
   "language": "python",
   "name": "python3"
  },
  "language_info": {
   "codemirror_mode": {
    "name": "ipython",
    "version": 3
   },
   "file_extension": ".py",
   "mimetype": "text/x-python",
   "name": "python",
   "nbconvert_exporter": "python",
   "pygments_lexer": "ipython3",
   "version": "3.11.4"
  }
 },
 "nbformat": 4,
 "nbformat_minor": 2
}
