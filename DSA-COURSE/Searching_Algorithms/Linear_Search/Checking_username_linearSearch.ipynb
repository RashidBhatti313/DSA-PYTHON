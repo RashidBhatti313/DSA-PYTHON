{
 "cells": [
  {
   "cell_type": "code",
   "execution_count": 1,
   "metadata": {},
   "outputs": [
    {
     "name": "stdout",
     "output_type": "stream",
     "text": [
      "Username 'user3' found at index 2. Authentication successful!\n"
     ]
    }
   ],
   "source": [
    "def linear_search(username, registered_users):\n",
    "    for i, user in enumerate(registered_users):\n",
    "        if user == username:\n",
    "            return i  # Username found, return the index\n",
    "    return -1  # Username not found in the list\n",
    "\n",
    "# Example usage\n",
    "registered_users = [\"user1\", \"user2\", \"user3\", \"user4\", \"user5\"]\n",
    "\n",
    "username_to_check = \"user3\"\n",
    "index = linear_search(username_to_check, registered_users)\n",
    "\n",
    "if index != -1:\n",
    "    print(f\"Username '{username_to_check}' found at index {index}. Authentication successful!\")\n",
    "else:\n",
    "    print(f\"Username '{username_to_check}' not found. Authentication failed.\")\n"
   ]
  }
 ],
 "metadata": {
  "kernelspec": {
   "display_name": "Python 3",
   "language": "python",
   "name": "python3"
  },
  "language_info": {
   "codemirror_mode": {
    "name": "ipython",
    "version": 3
   },
   "file_extension": ".py",
   "mimetype": "text/x-python",
   "name": "python",
   "nbconvert_exporter": "python",
   "pygments_lexer": "ipython3",
   "version": "3.11.4"
  }
 },
 "nbformat": 4,
 "nbformat_minor": 2
}
