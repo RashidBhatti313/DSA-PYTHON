{
 "cells": [
  {
   "cell_type": "code",
   "execution_count": 1,
   "metadata": {},
   "outputs": [
    {
     "name": "stdout",
     "output_type": "stream",
     "text": [
      "Song 'Song2' found at index 1.\n"
     ]
    }
   ],
   "source": [
    "class Song:\n",
    "    def __init__(self, title, artist) -> None:\n",
    "        self.title = title\n",
    "        self.artist = artist\n",
    "\n",
    "def Binary_search(sorted_playlist, target_title):\n",
    "    low = 0\n",
    "    high = len(sorted_playlist) -1\n",
    "\n",
    "    while low <= high:\n",
    "        mid = (low + high) // 2\n",
    "        mid_title = sorted_playlist[mid].title\n",
    "\n",
    "        if mid_title == target_title:\n",
    "            return mid\n",
    "        elif mid_title < target_title:\n",
    "            low = mid + 1\n",
    "        else:\n",
    "            high = mid - 1\n",
    "\n",
    "    return -1\n",
    "\n",
    "sorted_playlist = [\n",
    "    Song(\"Song1\", \"Artist1\"),\n",
    "    Song(\"Song2\", \"Artist2\"),\n",
    "    Song(\"Song3\", \"Artist3\")\n",
    "]\n",
    "\n",
    "target_title = \"Song2\"\n",
    "result = Binary_search(sorted_playlist, target_title)\n",
    "\n",
    "if result != -1:\n",
    "    print(f\"Song '{target_title}' found at index {result}.\")\n",
    "else:\n",
    "    print(f\"Song '{target_title}' not found in the playlist.\")\n",
    "    "
   ]
  }
 ],
 "metadata": {
  "kernelspec": {
   "display_name": "Python 3",
   "language": "python",
   "name": "python3"
  },
  "language_info": {
   "codemirror_mode": {
    "name": "ipython",
    "version": 3
   },
   "file_extension": ".py",
   "mimetype": "text/x-python",
   "name": "python",
   "nbconvert_exporter": "python",
   "pygments_lexer": "ipython3",
   "version": "3.11.4"
  }
 },
 "nbformat": 4,
 "nbformat_minor": 2
}
