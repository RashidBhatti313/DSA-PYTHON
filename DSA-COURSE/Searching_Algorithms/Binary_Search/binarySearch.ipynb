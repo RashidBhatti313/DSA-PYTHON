{
 "cells": [
  {
   "cell_type": "code",
   "execution_count": 1,
   "metadata": {},
   "outputs": [
    {
     "name": "stdout",
     "output_type": "stream",
     "text": [
      "8 is found on this data [4, 5, 6, 7, 8, 9, 88] in index 4\n"
     ]
    }
   ],
   "source": [
    "data = [4, 5, 6, 7, 8, 9, 88, 99, 109]\n",
    "def binary_search(data, e):\n",
    "    r = 0\n",
    "    l = len(data) -1\n",
    "    while r <= l:\n",
    "        m = (r+l) // 2\n",
    "        if data[m] == e:\n",
    "            return m\n",
    "        elif e > data[m]:\n",
    "            r = m + 1\n",
    "        else:\n",
    "            l = m - 1\n",
    "    return -1\n",
    "\n",
    "e = 8\n",
    "x = binary_search(data, e)\n",
    "if x != -1:\n",
    "    print(f\"{e} is found on this data {data} in index {x}\")\n",
    "else:\n",
    "    print(f\"{e} is not found on this data {data} \")\n",
    "\n"
   ]
  },
  {
   "cell_type": "code",
   "execution_count": 2,
   "metadata": {},
   "outputs": [
    {
     "name": "stdout",
     "output_type": "stream",
     "text": [
      "77 is found on this data [11, 22, 33, 44, 55, 66, 77, 88, 99, 109, 119, 129, 139] in index 6\n"
     ]
    }
   ],
   "source": [
    "data = [11, 22, 33, 44, 55, 66, 77, 88, 99, 109, 119, 129, 139]\n",
    "\n",
    "def binarysearch(data, e):\n",
    "    r = 0\n",
    "    l = len(data) -1\n",
    "    while r <= l:\n",
    "        m = (r+l) // 2\n",
    "        if data[m] == e:\n",
    "            return m\n",
    "        elif data[m] < e:\n",
    "            r = m + 1\n",
    "        else:\n",
    "            l = m - 1\n",
    "    return -1\n",
    "\n",
    "e = 77\n",
    "x = binarysearch(data, e)\n",
    "if x != -1:\n",
    "    print(f\"{e} is found on this data {data} in index {x}\")\n",
    "else:\n",
    "    print(f\"{e} is not found on this data {data} \")"
   ]
  },
  {
   "cell_type": "code",
   "execution_count": 1,
   "metadata": {},
   "outputs": [
    {
     "ename": "NameError",
     "evalue": "name 'data' is not defined",
     "output_type": "error",
     "traceback": [
      "\u001b[1;31m---------------------------------------------------------------------------\u001b[0m",
      "\u001b[1;31mNameError\u001b[0m                                 Traceback (most recent call last)",
      "\u001b[1;32mc:\\Users\\rashi\\OneDrive\\Desktop\\DSA\\Searching_Algorithms\\Binary_Search\\binarySearch.ipynb Cell 3\u001b[0m line \u001b[0;36m1\n\u001b[0;32m     <a href='vscode-notebook-cell:/c%3A/Users/rashi/OneDrive/Desktop/DSA/Searching_Algorithms/Binary_Search/binarySearch.ipynb#W2sZmlsZQ%3D%3D?line=12'>13</a>\u001b[0m     \u001b[39mreturn\u001b[39;00m \u001b[39m-\u001b[39m\u001b[39m1\u001b[39m\n\u001b[0;32m     <a href='vscode-notebook-cell:/c%3A/Users/rashi/OneDrive/Desktop/DSA/Searching_Algorithms/Binary_Search/binarySearch.ipynb#W2sZmlsZQ%3D%3D?line=14'>15</a>\u001b[0m e \u001b[39m=\u001b[39m \u001b[39m\"\u001b[39m\u001b[39mBabar\u001b[39m\u001b[39m\"\u001b[39m\n\u001b[1;32m---> <a href='vscode-notebook-cell:/c%3A/Users/rashi/OneDrive/Desktop/DSA/Searching_Algorithms/Binary_Search/binarySearch.ipynb#W2sZmlsZQ%3D%3D?line=15'>16</a>\u001b[0m X \u001b[39m=\u001b[39m binary_search(Data, e)\n\u001b[0;32m     <a href='vscode-notebook-cell:/c%3A/Users/rashi/OneDrive/Desktop/DSA/Searching_Algorithms/Binary_Search/binarySearch.ipynb#W2sZmlsZQ%3D%3D?line=16'>17</a>\u001b[0m \u001b[39mif\u001b[39;00m X \u001b[39m!=\u001b[39m \u001b[39m-\u001b[39m\u001b[39m1\u001b[39m:\n\u001b[0;32m     <a href='vscode-notebook-cell:/c%3A/Users/rashi/OneDrive/Desktop/DSA/Searching_Algorithms/Binary_Search/binarySearch.ipynb#W2sZmlsZQ%3D%3D?line=17'>18</a>\u001b[0m     \u001b[39mprint\u001b[39m(\u001b[39mf\u001b[39m\u001b[39m\"\u001b[39m\u001b[39m{\u001b[39;00me\u001b[39m}\u001b[39;00m\u001b[39m is not found on this data \u001b[39m\u001b[39m{\u001b[39;00mdata\u001b[39m}\u001b[39;00m\u001b[39m in index.\u001b[39m\u001b[39m\"\u001b[39m)\n",
      "\u001b[1;32mc:\\Users\\rashi\\OneDrive\\Desktop\\DSA\\Searching_Algorithms\\Binary_Search\\binarySearch.ipynb Cell 3\u001b[0m line \u001b[0;36m7\n\u001b[0;32m      <a href='vscode-notebook-cell:/c%3A/Users/rashi/OneDrive/Desktop/DSA/Searching_Algorithms/Binary_Search/binarySearch.ipynb#W2sZmlsZQ%3D%3D?line=4'>5</a>\u001b[0m \u001b[39mwhile\u001b[39;00m R \u001b[39m<\u001b[39m\u001b[39m=\u001b[39m L:\n\u001b[0;32m      <a href='vscode-notebook-cell:/c%3A/Users/rashi/OneDrive/Desktop/DSA/Searching_Algorithms/Binary_Search/binarySearch.ipynb#W2sZmlsZQ%3D%3D?line=5'>6</a>\u001b[0m     M \u001b[39m=\u001b[39m (R \u001b[39m+\u001b[39m L) \u001b[39m/\u001b[39m\u001b[39m/\u001b[39m \u001b[39m2\u001b[39m\n\u001b[1;32m----> <a href='vscode-notebook-cell:/c%3A/Users/rashi/OneDrive/Desktop/DSA/Searching_Algorithms/Binary_Search/binarySearch.ipynb#W2sZmlsZQ%3D%3D?line=6'>7</a>\u001b[0m     \u001b[39mif\u001b[39;00m data[M] \u001b[39m==\u001b[39m e:\n\u001b[0;32m      <a href='vscode-notebook-cell:/c%3A/Users/rashi/OneDrive/Desktop/DSA/Searching_Algorithms/Binary_Search/binarySearch.ipynb#W2sZmlsZQ%3D%3D?line=7'>8</a>\u001b[0m         \u001b[39mreturn\u001b[39;00m M\n\u001b[0;32m      <a href='vscode-notebook-cell:/c%3A/Users/rashi/OneDrive/Desktop/DSA/Searching_Algorithms/Binary_Search/binarySearch.ipynb#W2sZmlsZQ%3D%3D?line=8'>9</a>\u001b[0m     \u001b[39melif\u001b[39;00m data[M] \u001b[39m>\u001b[39m e:\n",
      "\u001b[1;31mNameError\u001b[0m: name 'data' is not defined"
     ]
    }
   ],
   "source": [
    "Data = [\"Abdula_Shafiq\", \"Babar\", \"FaheemAshraf\", \"Iftikhar\", \"Nassem\" ,\"Rizwan\", \"Shahdab\"]\n",
    "def binary_search(Data, e):\n",
    "    R = 0\n",
    "    L = len(Data) -1\n",
    "    while R <= L:\n",
    "        M = (R + L) // 2\n",
    "        if data[M] == e:\n",
    "            return M\n",
    "        elif data[M] > e:\n",
    "            L = M - 1\n",
    "        else:\n",
    "            R = M + 1\n",
    "    return -1\n",
    "\n",
    "e = \"Babar\"\n",
    "X = binary_search(Data, e)\n",
    "if X != -1:\n",
    "    print(f\"{e} is not found on this data {data} in index.\")\n",
    "else:\n",
    "    print(f\"{e} is not found on this data {data}.\")\n"
   ]
  },
  {
   "cell_type": "code",
   "execution_count": 14,
   "metadata": {},
   "outputs": [
    {
     "name": "stdout",
     "output_type": "stream",
     "text": [
      "Frank found at index 5\n"
     ]
    }
   ],
   "source": [
    "def binary_search(names, target):\n",
    "    low, high = 0, len(names) - 1\n",
    "\n",
    "    while low <= high:\n",
    "        mid = (low + high) // 2\n",
    "        mid_name = names[mid]\n",
    "\n",
    "        if mid_name == target:\n",
    "            return mid  # Found the target at index mid\n",
    "        elif mid_name < target:\n",
    "            low = mid + 1  # Disregard the left half\n",
    "        else:\n",
    "            high = mid - 1  # Disregard the right half\n",
    "\n",
    "    return -1  # Target not found in the list\n",
    "\n",
    "# Example usage:\n",
    "names = ['Alice', 'Bob', 'Charlie', 'David', 'Emma', 'Frank', 'Grace', 'Helen']\n",
    "\n",
    "target_name = 'Frank'\n",
    "result = binary_search(names, target_name)\n",
    "\n",
    "if result != -1:\n",
    "    print(f'{target_name} found at index {result}')\n",
    "else:\n",
    "    print(f'{target_name} not found in the list')\n"
   ]
  }
 ],
 "metadata": {
  "kernelspec": {
   "display_name": "Python 3",
   "language": "python",
   "name": "python3"
  },
  "language_info": {
   "codemirror_mode": {
    "name": "ipython",
    "version": 3
   },
   "file_extension": ".py",
   "mimetype": "text/x-python",
   "name": "python",
   "nbconvert_exporter": "python",
   "pygments_lexer": "ipython3",
   "version": "3.11.4"
  }
 },
 "nbformat": 4,
 "nbformat_minor": 2
}
