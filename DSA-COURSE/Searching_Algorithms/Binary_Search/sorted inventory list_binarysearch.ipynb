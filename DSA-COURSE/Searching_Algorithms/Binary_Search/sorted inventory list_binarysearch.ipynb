{
 "cells": [
  {
   "cell_type": "code",
   "execution_count": 1,
   "metadata": {},
   "outputs": [
    {
     "name": "stdout",
     "output_type": "stream",
     "text": [
      "Item 7 found at index 6.\n"
     ]
    }
   ],
   "source": [
    "def binary_search(sorted_list, target_item):\n",
    "    low = 0\n",
    "    high = len(sorted_list) - 1\n",
    "\n",
    "    while low <= high:\n",
    "        mid = (low + high) // 2\n",
    "        mid_item = sorted_list[mid]\n",
    "\n",
    "        # Check if the target item is equal to the middle item\n",
    "        if mid_item == target_item:\n",
    "            return mid  # Item found, return its index\n",
    "\n",
    "        # If the target item is smaller, narrow the search to the left half\n",
    "        elif target_item < mid_item:\n",
    "            high = mid - 1\n",
    "\n",
    "        # If the target item is larger, narrow the search to the right half\n",
    "        else:\n",
    "            low = mid + 1\n",
    "\n",
    "    return -1  # Item not found in the inventory\n",
    "\n",
    "# Example usage:\n",
    "inventory = [1, 2, 3, 4, 5, 6, 7, 8, 9, 10]\n",
    "target_item = 7\n",
    "\n",
    "result = binary_search(inventory, target_item)\n",
    "\n",
    "if result != -1:\n",
    "    print(f\"Item {target_item} found at index {result}.\")\n",
    "else:\n",
    "    print(f\"Item {target_item} not found in the inventory.\")\n"
   ]
  },
  {
   "cell_type": "code",
   "execution_count": 1,
   "metadata": {},
   "outputs": [
    {
     "name": "stdout",
     "output_type": "stream",
     "text": [
      "Item 7 found at index 6.\n"
     ]
    }
   ],
   "source": [
    "def binary_search(sorted_list, target_item):\n",
    "    low = 0\n",
    "    high = len(sorted_list) -1\n",
    "\n",
    "    while low <= high:\n",
    "        mid = (low + high) // 2\n",
    "        mid_item = sorted_list[mid]\n",
    "\n",
    "        if mid_item == target_item:\n",
    "            return mid\n",
    "        \n",
    "        elif target_item < mid_item:\n",
    "            high = mid -1\n",
    "\n",
    "        else:\n",
    "            low = mid - 1\n",
    "\n",
    "    return -1\n",
    "\n",
    "inventory = [1, 2, 3, 4, 5, 6, 7, 8, 9, 10]\n",
    "target_item = 7\n",
    "\n",
    "result = binary_search(inventory, target_item)\n",
    "\n",
    "if result != -1:\n",
    "    print(f\"Item {target_item} found at index {result}.\")\n",
    "else:\n",
    "    print(f\"Item {target_item} not found in the inventory.\")"
   ]
  }
 ],
 "metadata": {
  "kernelspec": {
   "display_name": "Python 3",
   "language": "python",
   "name": "python3"
  },
  "language_info": {
   "codemirror_mode": {
    "name": "ipython",
    "version": 3
   },
   "file_extension": ".py",
   "mimetype": "text/x-python",
   "name": "python",
   "nbconvert_exporter": "python",
   "pygments_lexer": "ipython3",
   "version": "3.11.4"
  }
 },
 "nbformat": 4,
 "nbformat_minor": 2
}
