{
 "cells": [
  {
   "cell_type": "code",
   "execution_count": 2,
   "metadata": {},
   "outputs": [
    {
     "name": "stdout",
     "output_type": "stream",
     "text": [
      "Event on 1969-07-20 found at index 2.\n",
      "Description: Apollo 11 Moon Landing\n"
     ]
    }
   ],
   "source": [
    "class HistoriacalEvent:\n",
    "    def __init__(self, date, event_discription) -> None:\n",
    "        self.date = date\n",
    "        self.event_discription = event_discription\n",
    "\n",
    "def Binary_search(events, target_date):\n",
    "    low = 0\n",
    "    high = len(events) -1\n",
    "\n",
    "    while low <= high:\n",
    "        mid = (low + high) // 2\n",
    "        mid_date = events[mid].date\n",
    "\n",
    "        if mid_date == target_date:\n",
    "            return mid\n",
    "        elif mid_date < target_date:\n",
    "            low = mid + 1\n",
    "        else:\n",
    "            high = mid - 1\n",
    "    return -1\n",
    "\n",
    "sorted_events = [\n",
    "    HistoriacalEvent(\"1776-07-04\", \"Declaration_of_independence\"),\n",
    "    HistoriacalEvent(\"1863-11-19\", \"Gettysburg Address\"),\n",
    "    HistoriacalEvent(\"1969-07-20\", \"Apollo 11 Moon Landing\")\n",
    "]\n",
    "\n",
    "target_date = \"1969-07-20\"\n",
    "result = Binary_search(sorted_events, target_date)\n",
    "\n",
    "if result != -1:\n",
    "    found_event = sorted_events[result]\n",
    "    print(f\"Event on {target_date} found at index {result}.\")\n",
    "    print(f\"Description: {found_event.event_discription}\")\n",
    "else:\n",
    "    print(f\"No event found on {target_date} in the historical timeline,\")\n"
   ]
  }
 ],
 "metadata": {
  "kernelspec": {
   "display_name": "Python 3",
   "language": "python",
   "name": "python3"
  },
  "language_info": {
   "codemirror_mode": {
    "name": "ipython",
    "version": 3
   },
   "file_extension": ".py",
   "mimetype": "text/x-python",
   "name": "python",
   "nbconvert_exporter": "python",
   "pygments_lexer": "ipython3",
   "version": "3.11.4"
  }
 },
 "nbformat": 4,
 "nbformat_minor": 2
}
