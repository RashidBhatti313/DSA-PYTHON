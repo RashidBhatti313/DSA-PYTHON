{
 "cells": [
  {
   "cell_type": "code",
   "execution_count": 1,
   "metadata": {},
   "outputs": [
    {
     "name": "stdout",
     "output_type": "stream",
     "text": [
      "Ibuprofen Target Medication is found at index 1.\n"
     ]
    }
   ],
   "source": [
    "def binary_search_drugs(sorted_drug, target_medication):\n",
    "    low = 0\n",
    "    high = len(sorted_drug) -1\n",
    "\n",
    "    while low <= high:\n",
    "        mid = (low + high) // 2\n",
    "        mid_medication = sorted_drug[mid]\n",
    "\n",
    "        if mid_medication == target_medication:\n",
    "            return mid\n",
    "        elif mid_medication < target_medication:\n",
    "            low = mid + 1\n",
    "        else:\n",
    "            high = mid - 1\n",
    "        \n",
    "    return -1\n",
    "\n",
    "pharmaceutical_database = [\"Aspirin\", \"Ibuprofen\", \"Paracetamol\", \"Lisinopril\", \"Simvastatin\", \"Metformin\"]\n",
    "\n",
    "target_medication = \"Ibuprofen\"\n",
    "index = binary_search_drugs(pharmaceutical_database, target_medication)\n",
    "\n",
    "if index != -1:\n",
    "    print(f\"{target_medication} Target Medication is found at index {index}.\")\n",
    "else:\n",
    "    print(f\"{target_medication} Target Medication are not found at index....\")"
   ]
  }
 ],
 "metadata": {
  "kernelspec": {
   "display_name": "Python 3",
   "language": "python",
   "name": "python3"
  },
  "language_info": {
   "codemirror_mode": {
    "name": "ipython",
    "version": 3
   },
   "file_extension": ".py",
   "mimetype": "text/x-python",
   "name": "python",
   "nbconvert_exporter": "python",
   "pygments_lexer": "ipython3",
   "version": "3.11.4"
  }
 },
 "nbformat": 4,
 "nbformat_minor": 2
}
