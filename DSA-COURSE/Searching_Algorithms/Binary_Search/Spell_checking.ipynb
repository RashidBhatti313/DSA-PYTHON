{
 "cells": [
  {
   "cell_type": "code",
   "execution_count": 6,
   "metadata": {},
   "outputs": [
    {
     "name": "stdout",
     "output_type": "stream",
     "text": [
      "Range_Rover is spelled correctly.\n"
     ]
    }
   ],
   "source": [
    "dictionary_words = [\"Mercedes\", \"Audi\", \"Rolls_Royce\", \"Range_Rover\", \"Bugatti\", \"Farrari\", \"Lamborghini\", \"Bantely\"]\n",
    "\n",
    "def Binary_search(words, Target):\n",
    "    r = 0\n",
    "    l = len(dictionary_words) -1\n",
    "    while r <= l:\n",
    "        mid = (r + l) // 2\n",
    "        mid_words = words[mid]\n",
    "\n",
    "        if mid_words == Target:\n",
    "            return True\n",
    "        elif mid_words < Target:\n",
    "            l = mid + 1\n",
    "        else:\n",
    "            r = mid - 1\n",
    "    return False\n",
    "\n",
    "word_to_check = \"Range_Rover\"\n",
    "\n",
    "if Binary_search(dictionary_words, word_to_check):\n",
    "    print(f\"{word_to_check} is spelled correctly.\")\n",
    "else:\n",
    "    print(f\"{word_to_check} is missspelled.\")\n"
   ]
  }
 ],
 "metadata": {
  "kernelspec": {
   "display_name": "Python 3",
   "language": "python",
   "name": "python3"
  },
  "language_info": {
   "codemirror_mode": {
    "name": "ipython",
    "version": 3
   },
   "file_extension": ".py",
   "mimetype": "text/x-python",
   "name": "python",
   "nbconvert_exporter": "python",
   "pygments_lexer": "ipython3",
   "version": "3.11.4"
  }
 },
 "nbformat": 4,
 "nbformat_minor": 2
}
