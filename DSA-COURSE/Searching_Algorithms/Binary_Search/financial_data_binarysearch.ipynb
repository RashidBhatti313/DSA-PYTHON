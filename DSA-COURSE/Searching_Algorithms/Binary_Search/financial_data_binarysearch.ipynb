{
 "cells": [
  {
   "cell_type": "code",
   "execution_count": 1,
   "metadata": {},
   "outputs": [
    {
     "name": "stdout",
     "output_type": "stream",
     "text": [
      "300 Target value found at index 4.\n"
     ]
    }
   ],
   "source": [
    "def Binary_Search_financial_data(sorted_data, target_value):\n",
    "    low = 0\n",
    "    high = len(sorted_data) -1\n",
    "\n",
    "    while low <= high:\n",
    "        mid = (low + high) // 2\n",
    "        mid_value = sorted_data[mid]\n",
    "\n",
    "        if mid_value == target_value:\n",
    "            return mid\n",
    "        elif mid_value < target_value:\n",
    "            low = mid + 1\n",
    "        else:\n",
    "            high = mid - 1\n",
    "\n",
    "    return -1\n",
    "\n",
    "financial_data = [100, 150, 200, 250, 300, 350, 400, 450, 500]\n",
    "\n",
    "target_value = 300\n",
    "index = Binary_Search_financial_data(financial_data, target_value)\n",
    "\n",
    "if index != -1:\n",
    "    print(f\"{target_value} Target value found at index {index}.\")\n",
    "else:\n",
    "    print(f\"{target_value} Target value not found at index..\")"
   ]
  }
 ],
 "metadata": {
  "kernelspec": {
   "display_name": "Python 3",
   "language": "python",
   "name": "python3"
  },
  "language_info": {
   "codemirror_mode": {
    "name": "ipython",
    "version": 3
   },
   "file_extension": ".py",
   "mimetype": "text/x-python",
   "name": "python",
   "nbconvert_exporter": "python",
   "pygments_lexer": "ipython3",
   "version": "3.11.4"
  }
 },
 "nbformat": 4,
 "nbformat_minor": 2
}
