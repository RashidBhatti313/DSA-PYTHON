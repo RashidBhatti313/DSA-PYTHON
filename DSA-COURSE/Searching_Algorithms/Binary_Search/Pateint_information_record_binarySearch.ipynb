{
 "cells": [
  {
   "cell_type": "code",
   "execution_count": 1,
   "metadata": {},
   "outputs": [
    {
     "name": "stdout",
     "output_type": "stream",
     "text": [
      "303 Target Patient_id is found at index 2.\n"
     ]
    }
   ],
   "source": [
    "class PatientRecord:\n",
    "    def __init__(self, patient_id, name, age, condition) -> None:\n",
    "        self.patient_id = patient_id\n",
    "        self.name = name\n",
    "        self.age = age\n",
    "        self.condition = condition\n",
    "\n",
    "def Binary_search_patient_records(sorted_records, target_ptient_id):\n",
    "    low = 0\n",
    "    high = len(sorted_records) -1\n",
    "\n",
    "    while low <= high:\n",
    "        mid = (low + high) // 2\n",
    "        mid_records = sorted_records[mid]\n",
    "\n",
    "        if mid_records.patient_id == target_ptient_id:\n",
    "            return mid\n",
    "        elif mid_records.patient_id < target_ptient_id:\n",
    "            low = mid + 1\n",
    "        else:\n",
    "            high = mid - 1\n",
    "\n",
    "    return -1\n",
    "\n",
    "patient_records = [\n",
    "    PatientRecord(101, \"John Doe\", 30, \"Fever\"),\n",
    "    PatientRecord(202, \"Jane Smith\", 45, \"Hypertension\"),\n",
    "    PatientRecord(303, \"Bob Johnson\", 55, \"Diabetes\"),\n",
    "    PatientRecord(404, \"Alice Brown\", 22, \"Injury\"),\n",
    "    PatientRecord(505, \"Charlie White\", 40, \"Allergies\")\n",
    "]\n",
    "\n",
    "target_patient_id = 303\n",
    "index = Binary_search_patient_records(patient_records, target_patient_id)\n",
    "\n",
    "if index != -1:\n",
    "    print(f\"{target_patient_id} Target Patient_id is found at index {index}.\")\n",
    "else:\n",
    "    print(f\"{target_patient_id} Target Patient_id are Not found at index.....\")\n",
    "        "
   ]
  }
 ],
 "metadata": {
  "kernelspec": {
   "display_name": "Python 3",
   "language": "python",
   "name": "python3"
  },
  "language_info": {
   "codemirror_mode": {
    "name": "ipython",
    "version": 3
   },
   "file_extension": ".py",
   "mimetype": "text/x-python",
   "name": "python",
   "nbconvert_exporter": "python",
   "pygments_lexer": "ipython3",
   "version": "3.11.4"
  }
 },
 "nbformat": 4,
 "nbformat_minor": 2
}
