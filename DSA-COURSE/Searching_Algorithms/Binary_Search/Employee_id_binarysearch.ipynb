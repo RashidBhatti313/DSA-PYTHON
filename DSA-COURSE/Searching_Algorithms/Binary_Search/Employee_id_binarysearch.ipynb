{
 "cells": [
  {
   "cell_type": "code",
   "execution_count": 1,
   "metadata": {},
   "outputs": [
    {
     "name": "stdout",
     "output_type": "stream",
     "text": [
      "Employee ID 714 found at index 6\n"
     ]
    }
   ],
   "source": [
    "def binary_search_employee_id(sorted_employee_ids, target_id):\n",
    "    low = 0\n",
    "    high = len(sorted_employee_ids) - 1\n",
    "\n",
    "    while low <= high:\n",
    "        mid = (low + high) // 2\n",
    "        mid_id = sorted_employee_ids[mid]\n",
    "\n",
    "        if mid_id == target_id:\n",
    "            # Employee ID found, you can now retrieve information from the database\n",
    "            return f\"Employee ID {target_id} found at index {mid}\"\n",
    "        elif mid_id < target_id:\n",
    "            low = mid + 1\n",
    "        else:\n",
    "            high = mid - 1\n",
    "\n",
    "    # If the loop completes, the employee ID was not found\n",
    "    return f\"Employee ID {target_id} not found in the list\"\n",
    "\n",
    "# Example usage:\n",
    "employee_ids = [101, 203, 305, 408, 510, 612, 714, 816, 918, 1020]\n",
    "target_employee_id = 714\n",
    "\n",
    "result = binary_search_employee_id(employee_ids, target_employee_id)\n",
    "print(result)"
   ]
  }
 ],
 "metadata": {
  "kernelspec": {
   "display_name": "Python 3",
   "language": "python",
   "name": "python3"
  },
  "language_info": {
   "codemirror_mode": {
    "name": "ipython",
    "version": 3
   },
   "file_extension": ".py",
   "mimetype": "text/x-python",
   "name": "python",
   "nbconvert_exporter": "python",
   "pygments_lexer": "ipython3",
   "version": "3.11.4"
  }
 },
 "nbformat": 4,
 "nbformat_minor": 2
}
