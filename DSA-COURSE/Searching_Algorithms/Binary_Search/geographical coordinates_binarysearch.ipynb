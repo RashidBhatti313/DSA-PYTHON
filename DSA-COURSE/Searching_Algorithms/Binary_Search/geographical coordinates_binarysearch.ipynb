{
 "cells": [
  {
   "cell_type": "code",
   "execution_count": 3,
   "metadata": {},
   "outputs": [
    {
     "name": "stdout",
     "output_type": "stream",
     "text": [
      "(40.7128, -74.006) Target location at index 2.\n"
     ]
    }
   ],
   "source": [
    "def Binary_search_coordinates(sorted_coordinates, target_coordinates):\n",
    "    low = 0\n",
    "    high = len(sorted_coordinates) -1\n",
    "\n",
    "    while low <= high:\n",
    "        mid = (low + high) // 2\n",
    "        mid_coordinates = sorted_coordinates[mid]\n",
    "\n",
    "        if mid_coordinates == target_coordinates:\n",
    "            return mid\n",
    "        elif mid_coordinates < target_coordinates:\n",
    "            low = mid + 1\n",
    "        else:\n",
    "            high = mid - 1\n",
    "\n",
    "    return -1\n",
    "\n",
    "geographical_coordinates = [\n",
    "    (37.7749, -122.4194),  # San Francisco, CA\n",
    "    (34.0522, -118.2437),  # Los Angeles, CA\n",
    "    (40.7128, -74.0060),   # New York, NY\n",
    "    (41.8781, -87.6298),   # Chicago, IL\n",
    "    (29.7604, -95.3698)    # Houston, TX\n",
    "]\n",
    "\n",
    "target_location = (40.7128, -74.0060)\n",
    "index = Binary_search_coordinates(geographical_coordinates, target_location)\n",
    "\n",
    "if index != -1:\n",
    "    print(f\"{target_location} Target location at index {index}.\")\n",
    "else:\n",
    "    print(f\"{target_location} Target location at not found....\")\n"
   ]
  }
 ],
 "metadata": {
  "kernelspec": {
   "display_name": "Python 3",
   "language": "python",
   "name": "python3"
  },
  "language_info": {
   "codemirror_mode": {
    "name": "ipython",
    "version": 3
   },
   "file_extension": ".py",
   "mimetype": "text/x-python",
   "name": "python",
   "nbconvert_exporter": "python",
   "pygments_lexer": "ipython3",
   "version": "3.11.4"
  }
 },
 "nbformat": 4,
 "nbformat_minor": 2
}
