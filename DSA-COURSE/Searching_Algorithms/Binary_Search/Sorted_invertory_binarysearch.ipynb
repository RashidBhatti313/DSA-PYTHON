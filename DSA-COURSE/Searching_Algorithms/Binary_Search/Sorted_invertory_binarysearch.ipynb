{
 "cells": [
  {
   "cell_type": "code",
   "execution_count": 1,
   "metadata": {},
   "outputs": [
    {
     "name": "stdout",
     "output_type": "stream",
     "text": [
      "Item with ID 203 found at index 1\n",
      "Item Name: Gadget B, Quantity: 30\n"
     ]
    }
   ],
   "source": [
    "class InventoryItem:\n",
    "    def __init__(self, item_id, item_name, quantity):\n",
    "        self.item_id = item_id\n",
    "        self.item_name = item_name\n",
    "        self.quantity = quantity\n",
    "\n",
    "def binary_search(inventory, target_item_id):\n",
    "    low, high = 0, len(inventory) - 1\n",
    "\n",
    "    while low <= high:\n",
    "        mid = (low + high) // 2\n",
    "        mid_item_id = inventory[mid].item_id\n",
    "\n",
    "        if mid_item_id == target_item_id:\n",
    "            return mid  \n",
    "        elif mid_item_id < target_item_id:\n",
    "            low = mid + 1\n",
    "        else:\n",
    "            high = mid - 1\n",
    "\n",
    "    return -1  \n",
    "\n",
    "sorted_inventory = [\n",
    "    InventoryItem(101, \"Widget A\", 50),\n",
    "    InventoryItem(203, \"Gadget B\", 30),\n",
    "    InventoryItem(305, \"Tool C\", 20)\n",
    "]\n",
    "\n",
    "target_item_id = 203\n",
    "result = binary_search(sorted_inventory, target_item_id)\n",
    "\n",
    "if result != -1:\n",
    "    found_item = sorted_inventory[result]\n",
    "    print(f\"Item with ID {target_item_id} found at index {result}\")\n",
    "    print(f\"Item Name: {found_item.item_name}, Quantity: {found_item.quantity}\")\n",
    "else:\n",
    "    print(f\"No item found with ID {target_item_id} in the inventory\")\n"
   ]
  }
 ],
 "metadata": {
  "kernelspec": {
   "display_name": "Python 3",
   "language": "python",
   "name": "python3"
  },
  "language_info": {
   "codemirror_mode": {
    "name": "ipython",
    "version": 3
   },
   "file_extension": ".py",
   "mimetype": "text/x-python",
   "name": "python",
   "nbconvert_exporter": "python",
   "pygments_lexer": "ipython3",
   "version": "3.11.4"
  }
 },
 "nbformat": 4,
 "nbformat_minor": 2
}
