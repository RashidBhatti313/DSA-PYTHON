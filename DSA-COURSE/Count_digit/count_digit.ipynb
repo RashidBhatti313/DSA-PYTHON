{
 "cells": [
  {
   "cell_type": "code",
   "execution_count": 1,
   "metadata": {},
   "outputs": [
    {
     "name": "stdout",
     "output_type": "stream",
     "text": [
      "Number of digits: 11\n"
     ]
    }
   ],
   "source": [
    "text = \"Hello123World45645454vjgfhntmxry\"\n",
    "digit_count = sum(c.isdigit() for c in text)\n",
    "print(\"Number of digits:\", digit_count)"
   ]
  },
  {
   "cell_type": "code",
   "execution_count": 3,
   "metadata": {},
   "outputs": [
    {
     "name": "stdout",
     "output_type": "stream",
     "text": [
      "Orignal Number: 12378\n",
      "Reversed Number: 87321\n"
     ]
    }
   ],
   "source": [
    "def reverse_number (number):\n",
    "    reverse = 0\n",
    "    while number > 0:\n",
    "        last_digit = number % 10\n",
    "        reverse = reverse * 10 + last_digit\n",
    "        number //= 10\n",
    "    return reverse\n",
    "\n",
    "number = 12378\n",
    "reverse_number = reverse_number(number)\n",
    "print(\"Orignal Number:\", number)\n",
    "print(\"Reversed Number:\", reverse_number)"
   ]
  },
  {
   "cell_type": "code",
   "execution_count": 4,
   "metadata": {},
   "outputs": [],
   "source": [
    "import math\n",
    "\n",
    "def find_gcd(a, b):\n",
    "    return math.gcd(a, b)\n",
    "\n",
    "num1 = 48\n",
    "num2 = 18\n",
    "gcd = find_gcd(num1, num2)\n"
   ]
  },
  {
   "cell_type": "code",
   "execution_count": 8,
   "metadata": {},
   "outputs": [
    {
     "name": "stdout",
     "output_type": "stream",
     "text": [
      "The GCD of 48 and 18 is 6.\n"
     ]
    }
   ],
   "source": [
    "def find_gcd(a, b):\n",
    "    if a == 0:\n",
    "        return b\n",
    "    if b == 0:\n",
    "        return a\n",
    "    \n",
    "    common_factor_of_2 = 0\n",
    "    while (a % 2 == 0) and (b % 2 == 0):\n",
    "        a //= 2\n",
    "        b //= 2\n",
    "        common_factor_of_2 += 1\n",
    "\n",
    "    while a % 2 == 0:\n",
    "        a //= 2\n",
    "    while b % 2 == 0:\n",
    "        b //= 2\n",
    "\n",
    "    while a != b:\n",
    "        if a > b:\n",
    "            a, b = b, a\n",
    "        b -= a\n",
    "\n",
    "    return a * (2 ** common_factor_of_2)\n",
    "\n",
    "num1 = 48\n",
    "num2 = 18\n",
    "gcd = find_gcd(num1, num2)\n",
    "print(f\"The GCD of {num1} and {num2} is {gcd}.\")\n"
   ]
  },
  {
   "cell_type": "code",
   "execution_count": 4,
   "metadata": {},
   "outputs": [
    {
     "name": "stdout",
     "output_type": "stream",
     "text": [
      "6 Is an Armstrong Number\n"
     ]
    }
   ],
   "source": [
    "def is_armstrong_number(num):\n",
    "    num_str =  str(num)\n",
    "\n",
    "    num_digits = len(num_str)\n",
    "\n",
    "    armstrong_sum = 0\n",
    "\n",
    "    for digit_char in num_str:\n",
    "        digit = int(digit_char)\n",
    "        armstrong_sum += digit ** num_digits\n",
    "        \n",
    "    return armstrong_sum == num\n",
    "\n",
    "num = int(input(\"Enter a number: \"))\n",
    "if is_armstrong_number(num):\n",
    "    print(num, \"Is an Armstrong Number\")\n",
    "else:\n",
    "    print(num, \"Is not an Armstrong Number\")\n"
   ]
  },
  {
   "cell_type": "code",
   "execution_count": 6,
   "metadata": {},
   "outputs": [
    {
     "name": "stdout",
     "output_type": "stream",
     "text": [
      "Divisors of 78 are: [1, 2, 3, 6, 13, 26, 39, 78]\n"
     ]
    }
   ],
   "source": [
    "def print_devisors(n):\n",
    "    divisors = []\n",
    "\n",
    "    for i in range(1, n + 1):\n",
    "        if n % i == 0:\n",
    "            divisors.append(i)\n",
    "\n",
    "    return divisors\n",
    "\n",
    "num = int(input(\"Enter a number: \"))\n",
    "divisors = print_devisors(num)\n",
    "print(\"Divisors of\", num, \"are:\", divisors)"
   ]
  },
  {
   "cell_type": "code",
   "execution_count": 8,
   "metadata": {},
   "outputs": [
    {
     "name": "stdout",
     "output_type": "stream",
     "text": [
      "5 is a prime number\n"
     ]
    }
   ],
   "source": [
    "def is_prime(num):\n",
    "    if num <= 1:\n",
    "        return False\n",
    "    if num <= 3:\n",
    "        return True\n",
    "    if num % 2 == 0 or num % 3 == 0:\n",
    "        return False\n",
    "    \n",
    "    i = 5\n",
    "    while i * i <= num:\n",
    "        if num % i == 0 or num % (i + 2) == 0:\n",
    "            return False\n",
    "        i += 6\n",
    "    \n",
    "    return True\n",
    "\n",
    "num = int(input(\"Enter a number: \"))\n",
    "\n",
    "if is_prime(num):\n",
    "    print(num, \"is a prime number\")\n",
    "else:\n",
    "    print(num, \"is not a prime number\")\n"
   ]
  }
 ],
 "metadata": {
  "kernelspec": {
   "display_name": "Python 3",
   "language": "python",
   "name": "python3"
  },
  "language_info": {
   "codemirror_mode": {
    "name": "ipython",
    "version": 3
   },
   "file_extension": ".py",
   "mimetype": "text/x-python",
   "name": "python",
   "nbconvert_exporter": "python",
   "pygments_lexer": "ipython3",
   "version": "3.11.4"
  }
 },
 "nbformat": 4,
 "nbformat_minor": 2
}
