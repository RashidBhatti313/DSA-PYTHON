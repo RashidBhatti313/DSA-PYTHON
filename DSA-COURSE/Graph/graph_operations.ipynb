{
 "cells": [
  {
   "cell_type": "code",
   "execution_count": 1,
   "metadata": {},
   "outputs": [
    {
     "name": "stdout",
     "output_type": "stream",
     "text": [
      "Vertices: dict_keys(['A', 'B', 'C', 'D'])\n",
      "Edges: {'A': ['B', 'D'], 'B': ['A', 'C'], 'C': ['B', 'D'], 'D': ['C', 'A']}\n",
      "Is Vertex 'A' Present? True\n",
      "Is Edge ('A', 'B') Present? True\n",
      "A B C D Is 'A' connected to 'C'? True\n",
      "\n",
      "DFS Traversal:\n",
      "A B C D "
     ]
    }
   ],
   "source": [
    "class Graph:\n",
    "    def __init__(self):\n",
    "        self.adjacency_list = {}\n",
    "\n",
    "    def add_vertex(self, vertex):\n",
    "        if vertex not in self.adjacency_list:\n",
    "            self.adjacency_list[vertex] = []\n",
    "\n",
    "    def add_edge(self, vertex1, vertex2):\n",
    "        if vertex1 in self.adjacency_list and vertex2 in self.adjacency_list:\n",
    "            self.adjacency_list[vertex1].append(vertex2)\n",
    "            self.adjacency_list[vertex2].append(vertex1)\n",
    "\n",
    "    def remove_vertex(self, vertex):\n",
    "        if vertex in self.adjacency_list:\n",
    "            del self.adjacency_list[vertex]\n",
    "            for vertices in self.adjacency_list.values():\n",
    "                if vertex in vertices:\n",
    "                    vertices.remove(vertex)\n",
    "\n",
    "    def remove_edge(self, vertex1, vertex2):\n",
    "        if vertex1 in self.adjacency_list and vertex2 in self.adjacency_list:\n",
    "            self.adjacency_list[vertex1].remove(vertex2)\n",
    "            self.adjacency_list[vertex2].remove(vertex1)\n",
    "\n",
    "    def is_vertex(self, vertex):\n",
    "        return vertex in self.adjacency_list\n",
    "\n",
    "    def is_edge(self, vertex1, vertex2):\n",
    "        return vertex1 in self.adjacency_list and vertex2 in self.adjacency_list[vertex1]\n",
    "\n",
    "    def is_connected(self, vertex1, vertex2):\n",
    "        visited = set()\n",
    "        self._dfs_recursive(vertex1, visited)\n",
    "        return vertex2 in visited\n",
    "\n",
    "    def dfs(self, start_vertex):\n",
    "        visited = set()\n",
    "        self._dfs_recursive(start_vertex, visited)\n",
    "\n",
    "    def _dfs_recursive(self, vertex, visited):\n",
    "        visited.add(vertex)\n",
    "        print(vertex, end=' ')\n",
    "        for neighbor in self.adjacency_list[vertex]:\n",
    "            if neighbor not in visited:\n",
    "                self._dfs_recursive(neighbor, visited)\n",
    "\n",
    "# Example usage\n",
    "g = Graph()\n",
    "g.add_vertex('A')\n",
    "g.add_vertex('B')\n",
    "g.add_vertex('C')\n",
    "g.add_vertex('D')\n",
    "g.add_edge('A', 'B')\n",
    "g.add_edge('B', 'C')\n",
    "g.add_edge('C', 'D')\n",
    "g.add_edge('D', 'A')\n",
    "\n",
    "print(\"Vertices:\", g.adjacency_list.keys())\n",
    "print(\"Edges:\", g.adjacency_list)\n",
    "print(\"Is Vertex 'A' Present?\", g.is_vertex('A'))\n",
    "print(\"Is Edge ('A', 'B') Present?\", g.is_edge('A', 'B'))\n",
    "print(\"Is 'A' connected to 'C'?\", g.is_connected('A', 'C'))\n",
    "\n",
    "print(\"\\nDFS Traversal:\")\n",
    "g.dfs('A')\n"
   ]
  }
 ],
 "metadata": {
  "kernelspec": {
   "display_name": "Python 3",
   "language": "python",
   "name": "python3"
  },
  "language_info": {
   "codemirror_mode": {
    "name": "ipython",
    "version": 3
   },
   "file_extension": ".py",
   "mimetype": "text/x-python",
   "name": "python",
   "nbconvert_exporter": "python",
   "pygments_lexer": "ipython3",
   "version": "3.11.4"
  }
 },
 "nbformat": 4,
 "nbformat_minor": 2
}
