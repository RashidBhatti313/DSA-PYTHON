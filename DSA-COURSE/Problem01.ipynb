{
 "cells": [
  {
   "cell_type": "markdown",
   "metadata": {},
   "source": [
    "### Example 01"
   ]
  },
  {
   "cell_type": "code",
   "execution_count": 1,
   "metadata": {},
   "outputs": [
    {
     "name": "stdout",
     "output_type": "stream",
     "text": [
      "Sorted Nums:  [0, 0, 1, 1, 2, 2]\n"
     ]
    }
   ],
   "source": [
    "nums = [2, 0, 2, 1, 1, 0]\n",
    "\n",
    "def Bubble_sorted(arr):\n",
    "    n = len(arr)\n",
    "    for i in range(n):\n",
    "\n",
    "        for j in range(n - 1):\n",
    "            if arr[j] > arr[j + 1]:\n",
    "                arr[j], arr[j + 1] = arr[j + 1], arr[j]\n",
    "\n",
    "    return nums\n",
    "\n",
    "Bubble_sorted(nums)\n",
    "print(\"Sorted Nums: \", nums)\n"
   ]
  },
  {
   "cell_type": "markdown",
   "metadata": {},
   "source": [
    "### Example 02"
   ]
  },
  {
   "cell_type": "code",
   "execution_count": 3,
   "metadata": {},
   "outputs": [
    {
     "name": "stdout",
     "output_type": "stream",
     "text": [
      "Sorted_numbers:  [0, 1, 2]\n"
     ]
    }
   ],
   "source": [
    "numbers = [2, 0, 1]\n",
    "\n",
    "def Bubble_sorting(arr):\n",
    "    n = len(arr)\n",
    "\n",
    "    for i in range(n):\n",
    "\n",
    "        for j in range(n - 1):\n",
    "            if arr[j] > arr[j + 1]:\n",
    "                arr[j], arr[j + 1] = arr[j+1],arr[j]\n",
    "\n",
    "    return numbers\n",
    "\n",
    "Bubble_sorting(numbers)\n",
    "print(\"Sorted_numbers: \",numbers)"
   ]
  }
 ],
 "metadata": {
  "kernelspec": {
   "display_name": "Python 3",
   "language": "python",
   "name": "python3"
  },
  "language_info": {
   "codemirror_mode": {
    "name": "ipython",
    "version": 3
   },
   "file_extension": ".py",
   "mimetype": "text/x-python",
   "name": "python",
   "nbconvert_exporter": "python",
   "pygments_lexer": "ipython3",
   "version": "3.11.4"
  }
 },
 "nbformat": 4,
 "nbformat_minor": 2
}
