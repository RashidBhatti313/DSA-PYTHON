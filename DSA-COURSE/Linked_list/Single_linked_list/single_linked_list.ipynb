{
 "cells": [
  {
   "cell_type": "markdown",
   "metadata": {},
   "source": [
    "Sure, here are the names of some common operations on a singly linked list:\n",
    "\n",
    "1. **Insertion:**\n",
    "   - Insert at the beginning\n",
    "   - Insert at the end\n",
    "   - Insert at a specific position\n",
    "\n",
    "2. **Deletion:**\n",
    "   - Delete from the beginning\n",
    "   - Delete from the end\n",
    "   - Delete from a specific position\n",
    "   - Delete by value\n",
    "\n",
    "3. **Traversal:**\n",
    "   - Traverse the entire list\n",
    "\n",
    "4. **Search:**\n",
    "   - Search by value\n",
    "\n",
    "5. **Length:**\n",
    "   - Find the length of the list\n",
    "\n",
    "6. **Concatenation:**\n",
    "   - Concatenate two lists\n",
    "\n",
    "7. **Reversal:**\n",
    "   - Reverse the linked list\n",
    "\n",
    "8. **Sorting:**\n",
    "   - Sort the linked list\n",
    "\n",
    "9. **Merge:**\n",
    "   - Merge two sorted linked lists\n",
    "\n",
    "10. **Split:**\n",
    "    - Split the list into two halves\n",
    "\n",
    "These operations are fundamental for working with singly linked lists in programming."
   ]
  },
  {
   "cell_type": "code",
   "execution_count": 2,
   "metadata": {},
   "outputs": [
    {
     "name": "stdout",
     "output_type": "stream",
     "text": [
      "8\n"
     ]
    }
   ],
   "source": [
    "class Node:\n",
    "    def __init__(self, data) -> None:\n",
    "        self.data = data\n",
    "        self.next = None\n",
    "\n",
    "n1 = Node(\"Karachi\")\n",
    "n2 = Node([1, 2, 3, 4])\n",
    "n3 = Node({\"English\":5})\n",
    "n4 = Node(8)\n",
    "\n",
    "n1.next= n2\n",
    "n2.next = n3\n",
    "n3.next = n4\n",
    "\n",
    "print(n1.next.next.next.data)\n"
   ]
  },
  {
   "cell_type": "markdown",
   "metadata": {},
   "source": [
    "### - Insert at the beginning"
   ]
  },
  {
   "cell_type": "code",
   "execution_count": 4,
   "metadata": {},
   "outputs": [
    {
     "name": "stdout",
     "output_type": "stream",
     "text": [
      "488\n",
      "466\n",
      "444\n",
      "4\n"
     ]
    }
   ],
   "source": [
    "class Node:\n",
    "    def __init__(self, data) -> None:\n",
    "        self.data = data\n",
    "        self.next = None\n",
    "        \n",
    "class Single_linked_list:\n",
    "    def __init__(self) -> None:\n",
    "        self.head = None\n",
    "        self.tail = None\n",
    "\n",
    "    def insert_at_first(self, data):\n",
    "        n = Node(data)\n",
    "        if self.head is None:\n",
    "            self.head = n\n",
    "            self.tail = n\n",
    "\n",
    "        else:\n",
    "            n.next = self.head\n",
    "            self.head = n\n",
    "\n",
    "    def show(self):\n",
    "        e = self.head\n",
    "        while e:\n",
    "            print(e.data)\n",
    "\n",
    "            e = e.next\n",
    "            # print(\"None\")\n",
    "        \n",
    "\n",
    "\n",
    "\n",
    "slist = Single_linked_list()\n",
    "slist.insert_at_first(4)\n",
    "slist.insert_at_first(444)\n",
    "slist.insert_at_first(466)\n",
    "slist.insert_at_first(488)\n",
    "slist.show()\n",
    "# slist.tail.data"
   ]
  },
  {
   "cell_type": "markdown",
   "metadata": {},
   "source": [
    "### - Insert at the end"
   ]
  },
  {
   "cell_type": "code",
   "execution_count": 6,
   "metadata": {},
   "outputs": [
    {
     "name": "stdout",
     "output_type": "stream",
     "text": [
      "4\n",
      "444\n",
      "466\n",
      "477\n",
      "488\n"
     ]
    },
    {
     "data": {
      "text/plain": [
       "<__main__.Node at 0x20d22d54d50>"
      ]
     },
     "execution_count": 6,
     "metadata": {},
     "output_type": "execute_result"
    }
   ],
   "source": [
    "class Node:\n",
    "    def __init__(self, data) -> None:\n",
    "        self.data = data\n",
    "        self.next = None\n",
    "\n",
    "class Single_linked_list:\n",
    "    def __init__(self) -> None:\n",
    "        self.head = None\n",
    "        self.tail = None\n",
    "\n",
    "    def insert_at_end(self, data):\n",
    "        n = Node(data)\n",
    "        if self.head is None:\n",
    "            self.head = n\n",
    "            self.tail = n\n",
    "\n",
    "        else:\n",
    "            self.tail.next = n\n",
    "            self.tail = n\n",
    "\n",
    "    def show(self):\n",
    "        e = self.head\n",
    "        while e:\n",
    "            print(e.data)\n",
    "\n",
    "            e = e.next\n",
    "        \n",
    "    def search(self, e):\n",
    "        n = self.head\n",
    "        while n:\n",
    "            if n.data == e:\n",
    "                return n\n",
    "            \n",
    "            n = n.next\n",
    "        \n",
    "        return None\n",
    "\n",
    "    def insert_at_a_specific_position(self, p, e):\n",
    "        newnode = Node(e)\n",
    "        n = self.search(p)\n",
    "        newnode.next = n.next\n",
    "        n.next = newnode\n",
    "\n",
    "slist = Single_linked_list()\n",
    "slist.insert_at_end(4)\n",
    "slist.insert_at_end(444)\n",
    "slist.insert_at_end(466)\n",
    "slist.insert_at_end(488)\n",
    "slist.insert_at_a_specific_position(466, 477)\n",
    "slist.show()\n",
    "slist.search(444)\n"
   ]
  },
  {
   "cell_type": "markdown",
   "metadata": {},
   "source": [
    "### Search\n"
   ]
  },
  {
   "cell_type": "markdown",
   "metadata": {},
   "source": [
    "### Insert at a specific position"
   ]
  },
  {
   "cell_type": "code",
   "execution_count": 43,
   "metadata": {},
   "outputs": [
    {
     "name": "stdout",
     "output_type": "stream",
     "text": [
      "4\n",
      "444\n",
      "466\n",
      "488\n",
      "Element 444 found.\n"
     ]
    }
   ],
   "source": [
    "class Node:\n",
    "    def __init__(self, data) -> None:\n",
    "        self.data = data\n",
    "        self.next = None\n",
    "\n",
    "\n",
    "class SingleLinkedList:\n",
    "    def __init__(self) -> None:\n",
    "        self.head = None\n",
    "        self.tail = None\n",
    "\n",
    "    def insert_at_end(self, data):\n",
    "        n = Node(data)\n",
    "        if self.head is None:\n",
    "            self.head = n\n",
    "            self.tail = n\n",
    "        else:\n",
    "            self.tail.next = n\n",
    "            self.tail = n\n",
    "\n",
    "    def show(self):\n",
    "        e = self.head\n",
    "        while e:\n",
    "            print(e.data)\n",
    "            e = e.next\n",
    "\n",
    "    def search(self, e):\n",
    "        n = self.head\n",
    "        while n:\n",
    "            if n.data == e:\n",
    "                return n\n",
    "            n = n.next\n",
    "        return None\n",
    "\n",
    "\n",
    "slist = SingleLinkedList()\n",
    "slist.insert_at_end(4)\n",
    "slist.insert_at_end(444)\n",
    "slist.insert_at_end(466)\n",
    "slist.insert_at_end(488)\n",
    "slist.show()\n",
    "\n",
    "slist.search(444)\n",
    "\n",
    "result = slist.search(444)\n",
    "if result:\n",
    "    print(f\"Element {result.data} found.\")\n",
    "else:\n",
    "    print(\"Element not found.\")\n",
    "\n"
   ]
  },
  {
   "cell_type": "code",
   "execution_count": 9,
   "metadata": {},
   "outputs": [
    {
     "name": "stdout",
     "output_type": "stream",
     "text": [
      "444\n",
      "555\n",
      "666\n",
      "777\n",
      "888\n",
      "999\n",
      "Element 666 found..\n"
     ]
    }
   ],
   "source": [
    "class Node:\n",
    "    def __init__(self, data) -> None:\n",
    "        self.data = data\n",
    "        self.next = None\n",
    "\n",
    "class Single_linked_list:\n",
    "    def __init__(self) -> None:\n",
    "        self.head = None\n",
    "        self.tail = None\n",
    "\n",
    "    def insert_at_end(self, data):\n",
    "        n = Node(data)\n",
    "        if self.head is None:\n",
    "            self.head = n\n",
    "            self.tail = n\n",
    "        else:\n",
    "            self.tail.next = n\n",
    "            self.tail = n\n",
    "\n",
    "    def show(self):\n",
    "        e = self.head\n",
    "        while e:\n",
    "            print(e.data)\n",
    "\n",
    "            e = e.next\n",
    "\n",
    "    def search(self, e):\n",
    "        n = self.head\n",
    "        while n:\n",
    "            if n.data == e:\n",
    "                return n\n",
    "            n = n.next\n",
    "        return None\n",
    "    \n",
    "    def insert_at_an_specific_position(self, pos, e):\n",
    "        newnode = Node(e)\n",
    "        n = self.search(pos)\n",
    "        newnode.next = n.next\n",
    "        n.next = newnode\n",
    "\n",
    "    \n",
    "List = Single_linked_list()\n",
    "List.insert_at_end(444)\n",
    "List.insert_at_end(555)\n",
    "List.insert_at_end(666)\n",
    "List.insert_at_end(888)\n",
    "List.insert_at_end(999)\n",
    "List.insert_at_an_specific_position(666, 777)\n",
    "List.show()\n",
    "\n",
    "result = List.search(666)\n",
    "if result:\n",
    "    print(f\"Element {result.data} found..\")\n",
    "else:\n",
    "    print(f\"Element not found..\")"
   ]
  }
 ],
 "metadata": {
  "kernelspec": {
   "display_name": "Python 3",
   "language": "python",
   "name": "python3"
  },
  "language_info": {
   "codemirror_mode": {
    "name": "ipython",
    "version": 3
   },
   "file_extension": ".py",
   "mimetype": "text/x-python",
   "name": "python",
   "nbconvert_exporter": "python",
   "pygments_lexer": "ipython3",
   "version": "3.11.4"
  }
 },
 "nbformat": 4,
 "nbformat_minor": 2
}
