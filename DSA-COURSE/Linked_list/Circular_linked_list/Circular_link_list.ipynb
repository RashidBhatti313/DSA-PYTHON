{
 "cells": [
  {
   "cell_type": "markdown",
   "metadata": {},
   "source": [
    "Certainly! Here are the names of common operations on a circular linked list:\n",
    "\n",
    "1. **Insertion:**\n",
    "   - Insert at the beginning\n",
    "   - Insert at the end\n",
    "   - Insert at a specific position\n",
    "\n",
    "2. **Deletion:**\n",
    "   - Delete from the beginning\n",
    "   - Delete from the end\n",
    "   - Delete from a specific position\n",
    "   - Delete by value\n",
    "\n",
    "3. **Traversal:**\n",
    "   - Traverse the entire circular list\n",
    "\n",
    "4. **Search:**\n",
    "   - Search by value\n",
    "\n",
    "5. **Length:**\n",
    "   - Find the length of the circular list\n",
    "\n",
    "6. **Concatenation:**\n",
    "   - Concatenate two circular lists\n",
    "\n",
    "7. **Splitting:**\n",
    "   - Split the circular list into two halves\n",
    "\n",
    "8. **Josephus Problem:**\n",
    "   - Solve the Josephus problem for a given step size\n",
    "\n",
    "9. **Insertion in a sorted list:**\n",
    "   - Insert an element in a sorted circular linked list while maintaining the sorted order\n",
    "\n",
    "These operations cover the basic functionalities of working with circular linked lists in programming."
   ]
  },
  {
   "cell_type": "code",
   "execution_count": 8,
   "metadata": {},
   "outputs": [
    {
     "name": "stdout",
     "output_type": "stream",
     "text": [
      "Multan\n"
     ]
    }
   ],
   "source": [
    "class Node:\n",
    "    def __init__(self, data) -> None:\n",
    "        self.data = data\n",
    "        self.next = None\n",
    "        self.previous = None\n",
    "\n",
    "n1 = Node(\"Multan\")\n",
    "n2 = Node([7, 8, 9, 10, 11, 12])\n",
    "n3 = Node({'Physics': 66})\n",
    "n4 = Node(45)\n",
    "\n",
    "n1.next = n4\n",
    "n2.next = n3\n",
    "n3.next = n2\n",
    "n4.next = n1\n",
    "n4.previous = n1\n",
    "n3.previous = n2\n",
    "\n",
    "print(n4.previous.data)"
   ]
  }
 ],
 "metadata": {
  "kernelspec": {
   "display_name": "Python 3",
   "language": "python",
   "name": "python3"
  },
  "language_info": {
   "codemirror_mode": {
    "name": "ipython",
    "version": 3
   },
   "file_extension": ".py",
   "mimetype": "text/x-python",
   "name": "python",
   "nbconvert_exporter": "python",
   "pygments_lexer": "ipython3",
   "version": "3.11.4"
  }
 },
 "nbformat": 4,
 "nbformat_minor": 2
}
