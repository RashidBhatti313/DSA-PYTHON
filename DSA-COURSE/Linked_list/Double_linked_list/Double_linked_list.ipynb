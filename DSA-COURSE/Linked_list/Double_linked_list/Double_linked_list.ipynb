{
 "cells": [
  {
   "cell_type": "markdown",
   "metadata": {},
   "source": [
    "Certainly! Here are the names of common operations on a doubly linked list:\n",
    "\n",
    "1. **Insertion:**\n",
    "   - Insert at the beginning\n",
    "   - Insert at the end\n",
    "   - Insert at a specific position\n",
    "\n",
    "2. **Deletion:**\n",
    "   - Delete from the beginning\n",
    "   - Delete from the end\n",
    "   - Delete from a specific position\n",
    "   - Delete by value\n",
    "\n",
    "3. **Traversal:**\n",
    "   - Traverse forward\n",
    "   - Traverse backward\n",
    "\n",
    "4. **Search:**\n",
    "   - Search forward by value\n",
    "   - Search backward by value\n",
    "\n",
    "5. **Length:**\n",
    "   - Find the length of the list\n",
    "\n",
    "6. **Concatenation:**\n",
    "   - Concatenate two lists\n",
    "\n",
    "7. **Reversal:**\n",
    "   - Reverse the doubly linked list\n",
    "\n",
    "8. **Sorting:**\n",
    "   - Sort the doubly linked list\n",
    "\n",
    "9. **Merge:**\n",
    "   - Merge two sorted doubly linked lists\n",
    "\n",
    "10. **Split:**\n",
    "    - Split the list into two halves\n",
    "\n",
    "11. **Insertion in a sorted list:**\n",
    "    - Insert an element in a sorted doubly linked list while maintaining the sorted order\n",
    "\n",
    "These operations cover the basic functionalities of working with doubly linked lists in programming."
   ]
  },
  {
   "cell_type": "code",
   "execution_count": 18,
   "metadata": {},
   "outputs": [
    {
     "name": "stdout",
     "output_type": "stream",
     "text": [
      "Lahore\n"
     ]
    }
   ],
   "source": [
    "class Node:\n",
    "    def __init__(self, data) -> None:\n",
    "        self.data = data\n",
    "        self.next = None\n",
    "        self.previous = None\n",
    "\n",
    "n1 = Node(\"Lahore\")\n",
    "n2 = Node([1, 2, 3, 4, 5])\n",
    "n3 = Node({\"MATHEMATICS\" : 8})\n",
    "n4 = Node(10)\n",
    "\n",
    "n1.next = n2\n",
    "n2.previous = n1\n",
    "n2.next = n3\n",
    "n3.previous = n2\n",
    "n3.next = n4\n",
    "n4.previous = n3\n",
    "\n",
    "print(n1.next.previous.data)\n",
    "print()"
   ]
  },
  {
   "cell_type": "code",
   "execution_count": null,
   "metadata": {},
   "outputs": [],
   "source": []
  }
 ],
 "metadata": {
  "kernelspec": {
   "display_name": "Python 3",
   "language": "python",
   "name": "python3"
  },
  "language_info": {
   "codemirror_mode": {
    "name": "ipython",
    "version": 3
   },
   "file_extension": ".py",
   "mimetype": "text/x-python",
   "name": "python",
   "nbconvert_exporter": "python",
   "pygments_lexer": "ipython3",
   "version": "3.11.4"
  }
 },
 "nbformat": 4,
 "nbformat_minor": 2
}
